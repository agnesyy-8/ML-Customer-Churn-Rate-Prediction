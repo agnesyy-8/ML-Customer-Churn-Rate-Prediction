{
 "cells": [
  {
   "cell_type": "markdown",
   "id": "9ea28eee",
   "metadata": {},
   "source": [
    "<br>\n",
    "<h1 align=\"center\">Machine Learning Group 5</h1><br>\n",
    "\n",
    "\n",
    "<h6 align=\"center\">BARBEAU Amandine / CHAU Wai Ping / LAARIF Rim / LU Shurui / RAO Mingzi / WANG Yifan</h6><br>\n",
    "\n",
    "<h1>Context:</h1>\n",
    "<br>\n",
    "In the digital age, each business is mixted with technologies but ironically is more complicated for companies <b>to find customer and to keep them</b>. The needs, the expectations of customers, their behaviors and values and even their tastes are evolving ever faster. The competition is also stronger in all areas with the facilitation of the process of creating companies and the many opportunities that are created every day.\n",
    "\n",
    "Nowadays, loyalty is the result of a company which not only responds to the customer needs but anticipates them. Loyal customers are <b>more valuable</b> than new customers, who cost more to acquire and don't spend as much. Actually, the Pareto Law demonstrated that 80% of the businesses are driven by 20% of their customers. And loyal customers are important, they are the ones who constitute the customer base and which will <b>allow your business to grow and maintain high profits</b>. \n",
    "<br> On 2021, the <b>average churn rate in telecom businesses was 22%</b>. Every year, it has been increasing mainly because of a <b>strong competition</b>. \n",
    "<br>The telecommunication business has a large amount and varity of service providers and customers just change form one to one easily.\n",
    "Individual customer retention is difficult because most telecom companies have too many customers that they cannot devote more time to than necessary. \n",
    "\n",
    "<br>Our agency has been hired by a Telecom company  as an AI expert to build a model that will enable them to predict the customers with a high churn probability based on a <b>2-years historic customers data</b>. \n",
    "They would like to put in place strategies to retain customers with high probability of churn in order to concentrate their efforts and minimize their expenses. \n",
    "\n",
    "<br>\n",
    "<h1>Problem definition </h1>\n",
    "<h3>What is our topic ?</h3>\n",
    "\n",
    "<br> Our goal is to enable the telecom company to predict the customers who have a high probability of churn with a good precision to help them activate the right retention strategies.\n",
    "<br>\n",
    "Customer churn is one of the <b>most important metrics</b> a growing business needs to evaluate. \n",
    "\n",
    "<b>Definition</b><br>\n",
    "<i>\"Customer churn is the percentage of customers that stopped using your company's product or service during a certain time frame\"</i> (Hubspot). \n",
    "\n",
    "\n",
    "It helps the company to identify customers who are going to churn and understand the reasons behind it, harnessed by the power of data and machine learning. And it enables the adequate teams and allow them to develop the tactics to achieve <b>customer retention</b>. \n",
    "\n",
    "<br>\n",
    "<h3>Our methodology</h3>\n",
    "\n",
    "We have a database with demographic and account related information about the customers and the services they subscribed to in the telecommunication company. <br>The identified problem has customer input variables and an ouput variable, which is our <b>target : \"Customer churn\"</b>. It is <b>supervised learning models</b> that we are going to use to make predictions.\n",
    "<br>\n",
    "First, we will <b>clean and transform this dataset</b>. We will explore our data by visualizing and understanding it to know which information will be more useful for our analysis and if some adjustements are needed (outliers ? categories...etc).\n",
    "Then we will explore the following <b>prediction models</b>: \n",
    "- logistic regression\n",
    "- random forests\n",
    "- support vector machines\n",
    "- Decision Tree Regressor\n",
    "\n",
    "Then, we will <b>test these models</b> and evaluate their <b>performance for predicting Churn</b>. <br>\n",
    "Finally, we will <b>conclude selecting the best model with hyperparameters.</b>\n",
    "<br>\n",
    "<h3>Objectives</h3>\n",
    "\n",
    "We will focus our report and our analysis on those questions:\n",
    "- Can we predict the customers who are going to churn using a supervised learning model ?\n",
    "- Are there features that are correlated to customer churn ?\n",
    "- Are there different types of churn (satisfaction ? product/service related ?) ?\n",
    "- What can we recommend the Telecom company to do ?\n"
   ]
  },
  {
   "cell_type": "code",
   "execution_count": 131,
   "id": "01871aba",
   "metadata": {},
   "outputs": [
    {
     "data": {
      "text/plain": [
       "(7043, 21)"
      ]
     },
     "execution_count": 131,
     "metadata": {},
     "output_type": "execute_result"
    }
   ],
   "source": [
    "import os\n",
    "for dirname, _, filenames in os.walk('input'):\n",
    "    for filename in filenames:\n",
    "        print(os.path.join(dirname, filename))\n",
    "\n",
    "import numpy as np\n",
    "import pandas as pd\n",
    "\n",
    "#Splitting our traing & test set using stratified sampling\n",
    "from sklearn.model_selection import train_test_split\n",
    "from sklearn.model_selection import StratifiedShuffleSplit\n",
    "\n",
    "#Build a pipeline :\n",
    "from sklearn.compose import ColumnTransformer\n",
    "from sklearn.pipeline import Pipeline\n",
    "from sklearn.impute import SimpleImputer\n",
    "from sklearn.preprocessing import StandardScaler\n",
    "from sklearn import preprocessing\n",
    "from sklearn.preprocessing import OneHotEncoder\n",
    "\n",
    "#Building ML models, using cross-validation and analyzing models performances:\n",
    "from sklearn.model_selection import cross_val_score\n",
    "from sklearn.model_selection import RandomizedSearchCV\n",
    "from sklearn.linear_model import LogisticRegression\n",
    "from sklearn.ensemble import RandomForestClassifier\n",
    "from sklearn.model_selection import GridSearchCV\n",
    "from sklearn import metrics\n",
    "from sklearn.metrics import mean_squared_error\n",
    "from sklearn.datasets import make_classification\n",
    "from sklearn.metrics import accuracy_score\n",
    "from sklearn.metrics import confusion_matrix\n",
    "\n",
    "\n",
    "# to make this notebook's output stable across runs\n",
    "np.random.seed(42)\n",
    "\n",
    "# To plot pretty figures\n",
    "\n",
    "%matplotlib inline\n",
    "import matplotlib\n",
    "import matplotlib.pyplot as plt\n",
    "plt.rcParams['axes.labelsize'] = 14\n",
    "plt.rcParams['xtick.labelsize'] = 12\n",
    "plt.rcParams['ytick.labelsize'] = 12\n",
    "\n",
    "\n",
    "# Ignore useless warnings (see SciPy issue #5998)\n",
    "import warnings\n",
    "warnings.filterwarnings(action=\"ignore\", message=\"^internal gelsd\")\n",
    "\n",
    "\n",
    "url = 'https://bit.ly/telecom_customer_churn'\n",
    "if True:\n",
    "    df = pd.read_csv(url)\n",
    "else:\n",
    "    df = pd.read_csv('Churn_Modelling.csv')\n",
    "\n",
    "df.shape"
   ]
  },
  {
   "cell_type": "markdown",
   "id": "2a22d8b5",
   "metadata": {},
   "source": [
    "# 1. Data collection :"
   ]
  },
  {
   "cell_type": "markdown",
   "id": "a1929941",
   "metadata": {},
   "source": [
    "From the Dataset descriptive information, we already know that there are <b>7043 rows</b> corresponding to customerID and <b>21 columns or features</b>. \n",
    "The columns are describing customers account information, demographic information, customer subscribed services and the customer churn Vs previous month:\n",
    "\n",
    "<li> The <b>Churn column</b> is binary with Yes/No values for each customer: \n",
    "'Yes' representing a customer who churned i.e he left the company within the last month. 'No' corresponding to a current customer of the telecom company. It is our <b>target</b>.</li>\n",
    "\n",
    "<li> Other columns represent <b>customer account information</b> : tenure (duration in the company), customer payment method, payperless billing (yes or no), subscription or contract type (month-on-month, one year-contract or 2-years contract) and monthly and annually total charges.</li>\n",
    "\n",
    "<li> Additonal columns represent the <b>customer subscribed service (or not) </b>: phone service, multiple lines, internet service, online security, device protection, technical support, TV streaming and movies streaming.</li>\n",
    "\n",
    "<li> And finally; we have the columns representing the <b> demographic information for each customer</b> : gender type, if they are senior citizens and if they have a partner and dependents.</li>"
   ]
  },
  {
   "cell_type": "markdown",
   "id": "2335a38e",
   "metadata": {},
   "source": [
    "# 2. Data Preprocessing :"
   ]
  },
  {
   "cell_type": "markdown",
   "id": "da1b6520",
   "metadata": {},
   "source": [
    "<h2> 2.1 Data Cleaning </h2>"
   ]
  },
  {
   "cell_type": "code",
   "execution_count": 132,
   "id": "04d7ec2a",
   "metadata": {},
   "outputs": [
    {
     "data": {
      "text/html": [
       "<div>\n",
       "<style scoped>\n",
       "    .dataframe tbody tr th:only-of-type {\n",
       "        vertical-align: middle;\n",
       "    }\n",
       "\n",
       "    .dataframe tbody tr th {\n",
       "        vertical-align: top;\n",
       "    }\n",
       "\n",
       "    .dataframe thead th {\n",
       "        text-align: right;\n",
       "    }\n",
       "</style>\n",
       "<table border=\"1\" class=\"dataframe\">\n",
       "  <thead>\n",
       "    <tr style=\"text-align: right;\">\n",
       "      <th></th>\n",
       "      <th>customerID</th>\n",
       "      <th>gender</th>\n",
       "      <th>SeniorCitizen</th>\n",
       "      <th>Partner</th>\n",
       "      <th>Dependents</th>\n",
       "      <th>tenure</th>\n",
       "      <th>PhoneService</th>\n",
       "      <th>MultipleLines</th>\n",
       "      <th>InternetService</th>\n",
       "      <th>OnlineSecurity</th>\n",
       "      <th>...</th>\n",
       "      <th>DeviceProtection</th>\n",
       "      <th>TechSupport</th>\n",
       "      <th>StreamingTV</th>\n",
       "      <th>StreamingMovies</th>\n",
       "      <th>Contract</th>\n",
       "      <th>PaperlessBilling</th>\n",
       "      <th>PaymentMethod</th>\n",
       "      <th>MonthlyCharges</th>\n",
       "      <th>TotalCharges</th>\n",
       "      <th>Churn</th>\n",
       "    </tr>\n",
       "  </thead>\n",
       "  <tbody>\n",
       "    <tr>\n",
       "      <th>0</th>\n",
       "      <td>7590-VHVEG</td>\n",
       "      <td>Female</td>\n",
       "      <td>0</td>\n",
       "      <td>Yes</td>\n",
       "      <td>No</td>\n",
       "      <td>1</td>\n",
       "      <td>No</td>\n",
       "      <td>No phone service</td>\n",
       "      <td>DSL</td>\n",
       "      <td>No</td>\n",
       "      <td>...</td>\n",
       "      <td>No</td>\n",
       "      <td>No</td>\n",
       "      <td>No</td>\n",
       "      <td>No</td>\n",
       "      <td>Month-to-month</td>\n",
       "      <td>Yes</td>\n",
       "      <td>Electronic check</td>\n",
       "      <td>29.85</td>\n",
       "      <td>29.85</td>\n",
       "      <td>No</td>\n",
       "    </tr>\n",
       "    <tr>\n",
       "      <th>1</th>\n",
       "      <td>5575-GNVDE</td>\n",
       "      <td>Male</td>\n",
       "      <td>0</td>\n",
       "      <td>No</td>\n",
       "      <td>No</td>\n",
       "      <td>34</td>\n",
       "      <td>Yes</td>\n",
       "      <td>No</td>\n",
       "      <td>DSL</td>\n",
       "      <td>Yes</td>\n",
       "      <td>...</td>\n",
       "      <td>Yes</td>\n",
       "      <td>No</td>\n",
       "      <td>No</td>\n",
       "      <td>No</td>\n",
       "      <td>One year</td>\n",
       "      <td>No</td>\n",
       "      <td>Mailed check</td>\n",
       "      <td>56.95</td>\n",
       "      <td>1889.5</td>\n",
       "      <td>No</td>\n",
       "    </tr>\n",
       "    <tr>\n",
       "      <th>2</th>\n",
       "      <td>3668-QPYBK</td>\n",
       "      <td>Male</td>\n",
       "      <td>0</td>\n",
       "      <td>No</td>\n",
       "      <td>No</td>\n",
       "      <td>2</td>\n",
       "      <td>Yes</td>\n",
       "      <td>No</td>\n",
       "      <td>DSL</td>\n",
       "      <td>Yes</td>\n",
       "      <td>...</td>\n",
       "      <td>No</td>\n",
       "      <td>No</td>\n",
       "      <td>No</td>\n",
       "      <td>No</td>\n",
       "      <td>Month-to-month</td>\n",
       "      <td>Yes</td>\n",
       "      <td>Mailed check</td>\n",
       "      <td>53.85</td>\n",
       "      <td>108.15</td>\n",
       "      <td>Yes</td>\n",
       "    </tr>\n",
       "    <tr>\n",
       "      <th>3</th>\n",
       "      <td>7795-CFOCW</td>\n",
       "      <td>Male</td>\n",
       "      <td>0</td>\n",
       "      <td>No</td>\n",
       "      <td>No</td>\n",
       "      <td>45</td>\n",
       "      <td>No</td>\n",
       "      <td>No phone service</td>\n",
       "      <td>DSL</td>\n",
       "      <td>Yes</td>\n",
       "      <td>...</td>\n",
       "      <td>Yes</td>\n",
       "      <td>Yes</td>\n",
       "      <td>No</td>\n",
       "      <td>No</td>\n",
       "      <td>One year</td>\n",
       "      <td>No</td>\n",
       "      <td>Bank transfer (automatic)</td>\n",
       "      <td>42.30</td>\n",
       "      <td>1840.75</td>\n",
       "      <td>No</td>\n",
       "    </tr>\n",
       "    <tr>\n",
       "      <th>4</th>\n",
       "      <td>9237-HQITU</td>\n",
       "      <td>Female</td>\n",
       "      <td>0</td>\n",
       "      <td>No</td>\n",
       "      <td>No</td>\n",
       "      <td>2</td>\n",
       "      <td>Yes</td>\n",
       "      <td>No</td>\n",
       "      <td>Fiber optic</td>\n",
       "      <td>No</td>\n",
       "      <td>...</td>\n",
       "      <td>No</td>\n",
       "      <td>No</td>\n",
       "      <td>No</td>\n",
       "      <td>No</td>\n",
       "      <td>Month-to-month</td>\n",
       "      <td>Yes</td>\n",
       "      <td>Electronic check</td>\n",
       "      <td>70.70</td>\n",
       "      <td>151.65</td>\n",
       "      <td>Yes</td>\n",
       "    </tr>\n",
       "  </tbody>\n",
       "</table>\n",
       "<p>5 rows × 21 columns</p>\n",
       "</div>"
      ],
      "text/plain": [
       "   customerID  gender  SeniorCitizen Partner Dependents  tenure PhoneService  \\\n",
       "0  7590-VHVEG  Female              0     Yes         No       1           No   \n",
       "1  5575-GNVDE    Male              0      No         No      34          Yes   \n",
       "2  3668-QPYBK    Male              0      No         No       2          Yes   \n",
       "3  7795-CFOCW    Male              0      No         No      45           No   \n",
       "4  9237-HQITU  Female              0      No         No       2          Yes   \n",
       "\n",
       "      MultipleLines InternetService OnlineSecurity  ... DeviceProtection  \\\n",
       "0  No phone service             DSL             No  ...               No   \n",
       "1                No             DSL            Yes  ...              Yes   \n",
       "2                No             DSL            Yes  ...               No   \n",
       "3  No phone service             DSL            Yes  ...              Yes   \n",
       "4                No     Fiber optic             No  ...               No   \n",
       "\n",
       "  TechSupport StreamingTV StreamingMovies        Contract PaperlessBilling  \\\n",
       "0          No          No              No  Month-to-month              Yes   \n",
       "1          No          No              No        One year               No   \n",
       "2          No          No              No  Month-to-month              Yes   \n",
       "3         Yes          No              No        One year               No   \n",
       "4          No          No              No  Month-to-month              Yes   \n",
       "\n",
       "               PaymentMethod MonthlyCharges  TotalCharges Churn  \n",
       "0           Electronic check          29.85         29.85    No  \n",
       "1               Mailed check          56.95        1889.5    No  \n",
       "2               Mailed check          53.85        108.15   Yes  \n",
       "3  Bank transfer (automatic)          42.30       1840.75    No  \n",
       "4           Electronic check          70.70        151.65   Yes  \n",
       "\n",
       "[5 rows x 21 columns]"
      ]
     },
     "execution_count": 132,
     "metadata": {},
     "output_type": "execute_result"
    }
   ],
   "source": [
    "df.head()"
   ]
  },
  {
   "cell_type": "code",
   "execution_count": 133,
   "id": "9f7821db",
   "metadata": {},
   "outputs": [
    {
     "name": "stdout",
     "output_type": "stream",
     "text": [
      "<class 'pandas.core.frame.DataFrame'>\n",
      "RangeIndex: 7043 entries, 0 to 7042\n",
      "Data columns (total 21 columns):\n",
      " #   Column            Non-Null Count  Dtype  \n",
      "---  ------            --------------  -----  \n",
      " 0   customerID        7043 non-null   object \n",
      " 1   gender            7043 non-null   object \n",
      " 2   SeniorCitizen     7043 non-null   int64  \n",
      " 3   Partner           7043 non-null   object \n",
      " 4   Dependents        7043 non-null   object \n",
      " 5   tenure            7043 non-null   int64  \n",
      " 6   PhoneService      7043 non-null   object \n",
      " 7   MultipleLines     7043 non-null   object \n",
      " 8   InternetService   7043 non-null   object \n",
      " 9   OnlineSecurity    7043 non-null   object \n",
      " 10  OnlineBackup      7043 non-null   object \n",
      " 11  DeviceProtection  7043 non-null   object \n",
      " 12  TechSupport       7043 non-null   object \n",
      " 13  StreamingTV       7043 non-null   object \n",
      " 14  StreamingMovies   7043 non-null   object \n",
      " 15  Contract          7043 non-null   object \n",
      " 16  PaperlessBilling  7043 non-null   object \n",
      " 17  PaymentMethod     7043 non-null   object \n",
      " 18  MonthlyCharges    7043 non-null   float64\n",
      " 19  TotalCharges      7043 non-null   object \n",
      " 20  Churn             7043 non-null   object \n",
      "dtypes: float64(1), int64(2), object(18)\n",
      "memory usage: 1.1+ MB\n"
     ]
    }
   ],
   "source": [
    "df.info()"
   ]
  },
  {
   "cell_type": "code",
   "execution_count": 134,
   "id": "1748fb81",
   "metadata": {},
   "outputs": [],
   "source": [
    "#converting TotalCharges into numeric column:\n",
    "df['TotalCharges'] = pd.to_numeric(df['TotalCharges'], errors='coerce')"
   ]
  },
  {
   "cell_type": "code",
   "execution_count": 135,
   "id": "c3033b49",
   "metadata": {},
   "outputs": [
    {
     "data": {
      "text/plain": [
       "customerID           0\n",
       "gender               0\n",
       "SeniorCitizen        0\n",
       "Partner              0\n",
       "Dependents           0\n",
       "tenure               0\n",
       "PhoneService         0\n",
       "MultipleLines        0\n",
       "InternetService      0\n",
       "OnlineSecurity       0\n",
       "OnlineBackup         0\n",
       "DeviceProtection     0\n",
       "TechSupport          0\n",
       "StreamingTV          0\n",
       "StreamingMovies      0\n",
       "Contract             0\n",
       "PaperlessBilling     0\n",
       "PaymentMethod        0\n",
       "MonthlyCharges       0\n",
       "TotalCharges        11\n",
       "Churn                0\n",
       "dtype: int64"
      ]
     },
     "execution_count": 135,
     "metadata": {},
     "output_type": "execute_result"
    }
   ],
   "source": [
    "df.isna().sum()"
   ]
  },
  {
   "cell_type": "code",
   "execution_count": 136,
   "id": "c3d3e392",
   "metadata": {},
   "outputs": [
    {
     "data": {
      "text/html": [
       "<div>\n",
       "<style scoped>\n",
       "    .dataframe tbody tr th:only-of-type {\n",
       "        vertical-align: middle;\n",
       "    }\n",
       "\n",
       "    .dataframe tbody tr th {\n",
       "        vertical-align: top;\n",
       "    }\n",
       "\n",
       "    .dataframe thead th {\n",
       "        text-align: right;\n",
       "    }\n",
       "</style>\n",
       "<table border=\"1\" class=\"dataframe\">\n",
       "  <thead>\n",
       "    <tr style=\"text-align: right;\">\n",
       "      <th></th>\n",
       "      <th>customerID</th>\n",
       "      <th>gender</th>\n",
       "      <th>SeniorCitizen</th>\n",
       "      <th>Partner</th>\n",
       "      <th>Dependents</th>\n",
       "      <th>tenure</th>\n",
       "      <th>PhoneService</th>\n",
       "      <th>MultipleLines</th>\n",
       "      <th>InternetService</th>\n",
       "      <th>OnlineSecurity</th>\n",
       "      <th>...</th>\n",
       "      <th>DeviceProtection</th>\n",
       "      <th>TechSupport</th>\n",
       "      <th>StreamingTV</th>\n",
       "      <th>StreamingMovies</th>\n",
       "      <th>Contract</th>\n",
       "      <th>PaperlessBilling</th>\n",
       "      <th>PaymentMethod</th>\n",
       "      <th>MonthlyCharges</th>\n",
       "      <th>TotalCharges</th>\n",
       "      <th>Churn</th>\n",
       "    </tr>\n",
       "  </thead>\n",
       "  <tbody>\n",
       "    <tr>\n",
       "      <th>488</th>\n",
       "      <td>4472-LVYGI</td>\n",
       "      <td>Female</td>\n",
       "      <td>0</td>\n",
       "      <td>Yes</td>\n",
       "      <td>Yes</td>\n",
       "      <td>0</td>\n",
       "      <td>No</td>\n",
       "      <td>No phone service</td>\n",
       "      <td>DSL</td>\n",
       "      <td>Yes</td>\n",
       "      <td>...</td>\n",
       "      <td>Yes</td>\n",
       "      <td>Yes</td>\n",
       "      <td>Yes</td>\n",
       "      <td>No</td>\n",
       "      <td>Two year</td>\n",
       "      <td>Yes</td>\n",
       "      <td>Bank transfer (automatic)</td>\n",
       "      <td>52.55</td>\n",
       "      <td>NaN</td>\n",
       "      <td>No</td>\n",
       "    </tr>\n",
       "    <tr>\n",
       "      <th>753</th>\n",
       "      <td>3115-CZMZD</td>\n",
       "      <td>Male</td>\n",
       "      <td>0</td>\n",
       "      <td>No</td>\n",
       "      <td>Yes</td>\n",
       "      <td>0</td>\n",
       "      <td>Yes</td>\n",
       "      <td>No</td>\n",
       "      <td>No</td>\n",
       "      <td>No internet service</td>\n",
       "      <td>...</td>\n",
       "      <td>No internet service</td>\n",
       "      <td>No internet service</td>\n",
       "      <td>No internet service</td>\n",
       "      <td>No internet service</td>\n",
       "      <td>Two year</td>\n",
       "      <td>No</td>\n",
       "      <td>Mailed check</td>\n",
       "      <td>20.25</td>\n",
       "      <td>NaN</td>\n",
       "      <td>No</td>\n",
       "    </tr>\n",
       "    <tr>\n",
       "      <th>936</th>\n",
       "      <td>5709-LVOEQ</td>\n",
       "      <td>Female</td>\n",
       "      <td>0</td>\n",
       "      <td>Yes</td>\n",
       "      <td>Yes</td>\n",
       "      <td>0</td>\n",
       "      <td>Yes</td>\n",
       "      <td>No</td>\n",
       "      <td>DSL</td>\n",
       "      <td>Yes</td>\n",
       "      <td>...</td>\n",
       "      <td>Yes</td>\n",
       "      <td>No</td>\n",
       "      <td>Yes</td>\n",
       "      <td>Yes</td>\n",
       "      <td>Two year</td>\n",
       "      <td>No</td>\n",
       "      <td>Mailed check</td>\n",
       "      <td>80.85</td>\n",
       "      <td>NaN</td>\n",
       "      <td>No</td>\n",
       "    </tr>\n",
       "    <tr>\n",
       "      <th>1082</th>\n",
       "      <td>4367-NUYAO</td>\n",
       "      <td>Male</td>\n",
       "      <td>0</td>\n",
       "      <td>Yes</td>\n",
       "      <td>Yes</td>\n",
       "      <td>0</td>\n",
       "      <td>Yes</td>\n",
       "      <td>Yes</td>\n",
       "      <td>No</td>\n",
       "      <td>No internet service</td>\n",
       "      <td>...</td>\n",
       "      <td>No internet service</td>\n",
       "      <td>No internet service</td>\n",
       "      <td>No internet service</td>\n",
       "      <td>No internet service</td>\n",
       "      <td>Two year</td>\n",
       "      <td>No</td>\n",
       "      <td>Mailed check</td>\n",
       "      <td>25.75</td>\n",
       "      <td>NaN</td>\n",
       "      <td>No</td>\n",
       "    </tr>\n",
       "    <tr>\n",
       "      <th>1340</th>\n",
       "      <td>1371-DWPAZ</td>\n",
       "      <td>Female</td>\n",
       "      <td>0</td>\n",
       "      <td>Yes</td>\n",
       "      <td>Yes</td>\n",
       "      <td>0</td>\n",
       "      <td>No</td>\n",
       "      <td>No phone service</td>\n",
       "      <td>DSL</td>\n",
       "      <td>Yes</td>\n",
       "      <td>...</td>\n",
       "      <td>Yes</td>\n",
       "      <td>Yes</td>\n",
       "      <td>Yes</td>\n",
       "      <td>No</td>\n",
       "      <td>Two year</td>\n",
       "      <td>No</td>\n",
       "      <td>Credit card (automatic)</td>\n",
       "      <td>56.05</td>\n",
       "      <td>NaN</td>\n",
       "      <td>No</td>\n",
       "    </tr>\n",
       "    <tr>\n",
       "      <th>3331</th>\n",
       "      <td>7644-OMVMY</td>\n",
       "      <td>Male</td>\n",
       "      <td>0</td>\n",
       "      <td>Yes</td>\n",
       "      <td>Yes</td>\n",
       "      <td>0</td>\n",
       "      <td>Yes</td>\n",
       "      <td>No</td>\n",
       "      <td>No</td>\n",
       "      <td>No internet service</td>\n",
       "      <td>...</td>\n",
       "      <td>No internet service</td>\n",
       "      <td>No internet service</td>\n",
       "      <td>No internet service</td>\n",
       "      <td>No internet service</td>\n",
       "      <td>Two year</td>\n",
       "      <td>No</td>\n",
       "      <td>Mailed check</td>\n",
       "      <td>19.85</td>\n",
       "      <td>NaN</td>\n",
       "      <td>No</td>\n",
       "    </tr>\n",
       "    <tr>\n",
       "      <th>3826</th>\n",
       "      <td>3213-VVOLG</td>\n",
       "      <td>Male</td>\n",
       "      <td>0</td>\n",
       "      <td>Yes</td>\n",
       "      <td>Yes</td>\n",
       "      <td>0</td>\n",
       "      <td>Yes</td>\n",
       "      <td>Yes</td>\n",
       "      <td>No</td>\n",
       "      <td>No internet service</td>\n",
       "      <td>...</td>\n",
       "      <td>No internet service</td>\n",
       "      <td>No internet service</td>\n",
       "      <td>No internet service</td>\n",
       "      <td>No internet service</td>\n",
       "      <td>Two year</td>\n",
       "      <td>No</td>\n",
       "      <td>Mailed check</td>\n",
       "      <td>25.35</td>\n",
       "      <td>NaN</td>\n",
       "      <td>No</td>\n",
       "    </tr>\n",
       "    <tr>\n",
       "      <th>4380</th>\n",
       "      <td>2520-SGTTA</td>\n",
       "      <td>Female</td>\n",
       "      <td>0</td>\n",
       "      <td>Yes</td>\n",
       "      <td>Yes</td>\n",
       "      <td>0</td>\n",
       "      <td>Yes</td>\n",
       "      <td>No</td>\n",
       "      <td>No</td>\n",
       "      <td>No internet service</td>\n",
       "      <td>...</td>\n",
       "      <td>No internet service</td>\n",
       "      <td>No internet service</td>\n",
       "      <td>No internet service</td>\n",
       "      <td>No internet service</td>\n",
       "      <td>Two year</td>\n",
       "      <td>No</td>\n",
       "      <td>Mailed check</td>\n",
       "      <td>20.00</td>\n",
       "      <td>NaN</td>\n",
       "      <td>No</td>\n",
       "    </tr>\n",
       "    <tr>\n",
       "      <th>5218</th>\n",
       "      <td>2923-ARZLG</td>\n",
       "      <td>Male</td>\n",
       "      <td>0</td>\n",
       "      <td>Yes</td>\n",
       "      <td>Yes</td>\n",
       "      <td>0</td>\n",
       "      <td>Yes</td>\n",
       "      <td>No</td>\n",
       "      <td>No</td>\n",
       "      <td>No internet service</td>\n",
       "      <td>...</td>\n",
       "      <td>No internet service</td>\n",
       "      <td>No internet service</td>\n",
       "      <td>No internet service</td>\n",
       "      <td>No internet service</td>\n",
       "      <td>One year</td>\n",
       "      <td>Yes</td>\n",
       "      <td>Mailed check</td>\n",
       "      <td>19.70</td>\n",
       "      <td>NaN</td>\n",
       "      <td>No</td>\n",
       "    </tr>\n",
       "    <tr>\n",
       "      <th>6670</th>\n",
       "      <td>4075-WKNIU</td>\n",
       "      <td>Female</td>\n",
       "      <td>0</td>\n",
       "      <td>Yes</td>\n",
       "      <td>Yes</td>\n",
       "      <td>0</td>\n",
       "      <td>Yes</td>\n",
       "      <td>Yes</td>\n",
       "      <td>DSL</td>\n",
       "      <td>No</td>\n",
       "      <td>...</td>\n",
       "      <td>Yes</td>\n",
       "      <td>Yes</td>\n",
       "      <td>Yes</td>\n",
       "      <td>No</td>\n",
       "      <td>Two year</td>\n",
       "      <td>No</td>\n",
       "      <td>Mailed check</td>\n",
       "      <td>73.35</td>\n",
       "      <td>NaN</td>\n",
       "      <td>No</td>\n",
       "    </tr>\n",
       "    <tr>\n",
       "      <th>6754</th>\n",
       "      <td>2775-SEFEE</td>\n",
       "      <td>Male</td>\n",
       "      <td>0</td>\n",
       "      <td>No</td>\n",
       "      <td>Yes</td>\n",
       "      <td>0</td>\n",
       "      <td>Yes</td>\n",
       "      <td>Yes</td>\n",
       "      <td>DSL</td>\n",
       "      <td>Yes</td>\n",
       "      <td>...</td>\n",
       "      <td>No</td>\n",
       "      <td>Yes</td>\n",
       "      <td>No</td>\n",
       "      <td>No</td>\n",
       "      <td>Two year</td>\n",
       "      <td>Yes</td>\n",
       "      <td>Bank transfer (automatic)</td>\n",
       "      <td>61.90</td>\n",
       "      <td>NaN</td>\n",
       "      <td>No</td>\n",
       "    </tr>\n",
       "  </tbody>\n",
       "</table>\n",
       "<p>11 rows × 21 columns</p>\n",
       "</div>"
      ],
      "text/plain": [
       "      customerID  gender  SeniorCitizen Partner Dependents  tenure  \\\n",
       "488   4472-LVYGI  Female              0     Yes        Yes       0   \n",
       "753   3115-CZMZD    Male              0      No        Yes       0   \n",
       "936   5709-LVOEQ  Female              0     Yes        Yes       0   \n",
       "1082  4367-NUYAO    Male              0     Yes        Yes       0   \n",
       "1340  1371-DWPAZ  Female              0     Yes        Yes       0   \n",
       "3331  7644-OMVMY    Male              0     Yes        Yes       0   \n",
       "3826  3213-VVOLG    Male              0     Yes        Yes       0   \n",
       "4380  2520-SGTTA  Female              0     Yes        Yes       0   \n",
       "5218  2923-ARZLG    Male              0     Yes        Yes       0   \n",
       "6670  4075-WKNIU  Female              0     Yes        Yes       0   \n",
       "6754  2775-SEFEE    Male              0      No        Yes       0   \n",
       "\n",
       "     PhoneService     MultipleLines InternetService       OnlineSecurity  ...  \\\n",
       "488            No  No phone service             DSL                  Yes  ...   \n",
       "753           Yes                No              No  No internet service  ...   \n",
       "936           Yes                No             DSL                  Yes  ...   \n",
       "1082          Yes               Yes              No  No internet service  ...   \n",
       "1340           No  No phone service             DSL                  Yes  ...   \n",
       "3331          Yes                No              No  No internet service  ...   \n",
       "3826          Yes               Yes              No  No internet service  ...   \n",
       "4380          Yes                No              No  No internet service  ...   \n",
       "5218          Yes                No              No  No internet service  ...   \n",
       "6670          Yes               Yes             DSL                   No  ...   \n",
       "6754          Yes               Yes             DSL                  Yes  ...   \n",
       "\n",
       "         DeviceProtection          TechSupport          StreamingTV  \\\n",
       "488                   Yes                  Yes                  Yes   \n",
       "753   No internet service  No internet service  No internet service   \n",
       "936                   Yes                   No                  Yes   \n",
       "1082  No internet service  No internet service  No internet service   \n",
       "1340                  Yes                  Yes                  Yes   \n",
       "3331  No internet service  No internet service  No internet service   \n",
       "3826  No internet service  No internet service  No internet service   \n",
       "4380  No internet service  No internet service  No internet service   \n",
       "5218  No internet service  No internet service  No internet service   \n",
       "6670                  Yes                  Yes                  Yes   \n",
       "6754                   No                  Yes                   No   \n",
       "\n",
       "          StreamingMovies  Contract PaperlessBilling  \\\n",
       "488                    No  Two year              Yes   \n",
       "753   No internet service  Two year               No   \n",
       "936                   Yes  Two year               No   \n",
       "1082  No internet service  Two year               No   \n",
       "1340                   No  Two year               No   \n",
       "3331  No internet service  Two year               No   \n",
       "3826  No internet service  Two year               No   \n",
       "4380  No internet service  Two year               No   \n",
       "5218  No internet service  One year              Yes   \n",
       "6670                   No  Two year               No   \n",
       "6754                   No  Two year              Yes   \n",
       "\n",
       "                  PaymentMethod MonthlyCharges  TotalCharges  Churn  \n",
       "488   Bank transfer (automatic)          52.55           NaN     No  \n",
       "753                Mailed check          20.25           NaN     No  \n",
       "936                Mailed check          80.85           NaN     No  \n",
       "1082               Mailed check          25.75           NaN     No  \n",
       "1340    Credit card (automatic)          56.05           NaN     No  \n",
       "3331               Mailed check          19.85           NaN     No  \n",
       "3826               Mailed check          25.35           NaN     No  \n",
       "4380               Mailed check          20.00           NaN     No  \n",
       "5218               Mailed check          19.70           NaN     No  \n",
       "6670               Mailed check          73.35           NaN     No  \n",
       "6754  Bank transfer (automatic)          61.90           NaN     No  \n",
       "\n",
       "[11 rows x 21 columns]"
      ]
     },
     "execution_count": 136,
     "metadata": {},
     "output_type": "execute_result"
    }
   ],
   "source": [
    "df.loc[df['TotalCharges'].isna()]"
   ]
  },
  {
   "cell_type": "markdown",
   "id": "51e35163",
   "metadata": {},
   "source": [
    "The Dataset has 7043 rows (corresponding to a unique customer), 21 columns (features).\n",
    "The dataset is composed of 2 integer, 2 float and 17 object (categorical) types columns. \n",
    "But when we look closer, it appears that the TotalCharges column is composed of decimal values but its type is an object. It has been converted into float. And we identify 11 NaN values which should be dealt with. Even if they are corresponding to loyal customers who did not churn (one to 2 years contracts), we cannot keep them because TotalCharges != (MonthlyCharges * Contract duration).\n",
    "\n",
    "The best way to deal with this missing Data (and avoid having bias in our model) is to drop these rows."
   ]
  },
  {
   "cell_type": "code",
   "execution_count": 137,
   "id": "54ec4204",
   "metadata": {},
   "outputs": [],
   "source": [
    "#supressing the 11 rows with NaN values for TotalCharges:\n",
    "df = df.copy().dropna()"
   ]
  },
  {
   "cell_type": "code",
   "execution_count": 138,
   "id": "5f26fd12",
   "metadata": {},
   "outputs": [
    {
     "name": "stdout",
     "output_type": "stream",
     "text": [
      "<class 'pandas.core.frame.DataFrame'>\n",
      "Int64Index: 7032 entries, 0 to 7042\n",
      "Data columns (total 21 columns):\n",
      " #   Column            Non-Null Count  Dtype  \n",
      "---  ------            --------------  -----  \n",
      " 0   customerID        7032 non-null   object \n",
      " 1   gender            7032 non-null   object \n",
      " 2   SeniorCitizen     7032 non-null   int64  \n",
      " 3   Partner           7032 non-null   object \n",
      " 4   Dependents        7032 non-null   object \n",
      " 5   tenure            7032 non-null   int64  \n",
      " 6   PhoneService      7032 non-null   object \n",
      " 7   MultipleLines     7032 non-null   object \n",
      " 8   InternetService   7032 non-null   object \n",
      " 9   OnlineSecurity    7032 non-null   object \n",
      " 10  OnlineBackup      7032 non-null   object \n",
      " 11  DeviceProtection  7032 non-null   object \n",
      " 12  TechSupport       7032 non-null   object \n",
      " 13  StreamingTV       7032 non-null   object \n",
      " 14  StreamingMovies   7032 non-null   object \n",
      " 15  Contract          7032 non-null   object \n",
      " 16  PaperlessBilling  7032 non-null   object \n",
      " 17  PaymentMethod     7032 non-null   object \n",
      " 18  MonthlyCharges    7032 non-null   float64\n",
      " 19  TotalCharges      7032 non-null   float64\n",
      " 20  Churn             7032 non-null   object \n",
      "dtypes: float64(2), int64(2), object(17)\n",
      "memory usage: 1.2+ MB\n"
     ]
    }
   ],
   "source": [
    "df.info()"
   ]
  },
  {
   "cell_type": "markdown",
   "id": "06d1778e",
   "metadata": {},
   "source": [
    "We have now a total of 7032 rows and TotalCharges has been converted to float."
   ]
  },
  {
   "cell_type": "code",
   "execution_count": 139,
   "id": "9db0b23e",
   "metadata": {},
   "outputs": [
    {
     "data": {
      "text/plain": [
       "customerID          False\n",
       "gender              False\n",
       "SeniorCitizen       False\n",
       "Partner             False\n",
       "Dependents          False\n",
       "tenure              False\n",
       "PhoneService        False\n",
       "MultipleLines       False\n",
       "InternetService     False\n",
       "OnlineSecurity      False\n",
       "OnlineBackup        False\n",
       "DeviceProtection    False\n",
       "TechSupport         False\n",
       "StreamingTV         False\n",
       "StreamingMovies     False\n",
       "Contract            False\n",
       "PaperlessBilling    False\n",
       "PaymentMethod       False\n",
       "MonthlyCharges      False\n",
       "TotalCharges        False\n",
       "Churn               False\n",
       "dtype: bool"
      ]
     },
     "execution_count": 139,
     "metadata": {},
     "output_type": "execute_result"
    }
   ],
   "source": [
    "df[df['customerID'].duplicated()].any()"
   ]
  },
  {
   "cell_type": "markdown",
   "id": "2135eb40",
   "metadata": {},
   "source": [
    "There is no duplicated customerID. "
   ]
  },
  {
   "cell_type": "markdown",
   "id": "399748a6",
   "metadata": {},
   "source": [
    "<h2> 2.2 Data exploration </h2>"
   ]
  },
  {
   "cell_type": "code",
   "execution_count": 140,
   "id": "7285f784",
   "metadata": {},
   "outputs": [],
   "source": [
    "# target variable :\n",
    "churn_label = df['Churn']"
   ]
  },
  {
   "cell_type": "markdown",
   "id": "7730d650",
   "metadata": {},
   "source": [
    "###### Churn proportion : "
   ]
  },
  {
   "cell_type": "code",
   "execution_count": 141,
   "id": "546a9fed",
   "metadata": {},
   "outputs": [
    {
     "data": {
      "text/plain": [
       "Churn\n",
       "No     73.4\n",
       "Yes    26.6\n",
       "dtype: float64"
      ]
     },
     "execution_count": 141,
     "metadata": {},
     "output_type": "execute_result"
    }
   ],
   "source": [
    "churn_prop = round(df.groupby('Churn').size()/len(df)*100,1)\n",
    "churn_prop"
   ]
  },
  {
   "cell_type": "markdown",
   "id": "dfb9baa6",
   "metadata": {},
   "source": [
    "There is a <b>churn rate of around 27% </b> of the customers Vs previous month. \n",
    "It is normal to have a churn rate or customers who disrupt the service. \n",
    "\n",
    "The objective is to be able to predict the churn and provide with a retention strategy for the concerned departments according to the features that will be identified during the exploratory phase.\n",
    "\n",
    "As a first step to understand our Dataset, we will visualize the numeric and the categorical variables before converting categoric Data into numeric in the preparation for maching learning."
   ]
  },
  {
   "cell_type": "code",
   "execution_count": 142,
   "id": "ad811381",
   "metadata": {},
   "outputs": [
    {
     "data": {
      "text/plain": [
       "['gender',\n",
       " 'Partner',\n",
       " 'Dependents',\n",
       " 'PhoneService',\n",
       " 'MultipleLines',\n",
       " 'InternetService',\n",
       " 'OnlineSecurity',\n",
       " 'OnlineBackup',\n",
       " 'DeviceProtection',\n",
       " 'TechSupport',\n",
       " 'StreamingTV',\n",
       " 'StreamingMovies',\n",
       " 'Contract',\n",
       " 'PaperlessBilling',\n",
       " 'PaymentMethod',\n",
       " 'Churn']"
      ]
     },
     "execution_count": 142,
     "metadata": {},
     "output_type": "execute_result"
    }
   ],
   "source": [
    "#defining the categorical features and dropping the Customer Id as it makes no sense to keep it for predictions :\n",
    "cats = list(col for col in df.columns if (df[col].dtype == 'object') & (col not in ['customerID']))\n",
    "cats "
   ]
  },
  {
   "cell_type": "markdown",
   "id": "dd2c99ba",
   "metadata": {},
   "source": [
    "<h3> Treating categorical variables, understanding the Data and the correlations: </h3>"
   ]
  },
  {
   "cell_type": "markdown",
   "id": "d8c05bc8",
   "metadata": {},
   "source": [
    "Let's have a look at our features categories to understand and treat them :"
   ]
  },
  {
   "cell_type": "code",
   "execution_count": 143,
   "id": "625e2b3a",
   "metadata": {},
   "outputs": [
    {
     "data": {
      "text/html": [
       "<div>\n",
       "<style scoped>\n",
       "    .dataframe tbody tr th:only-of-type {\n",
       "        vertical-align: middle;\n",
       "    }\n",
       "\n",
       "    .dataframe tbody tr th {\n",
       "        vertical-align: top;\n",
       "    }\n",
       "\n",
       "    .dataframe thead th {\n",
       "        text-align: right;\n",
       "    }\n",
       "</style>\n",
       "<table border=\"1\" class=\"dataframe\">\n",
       "  <thead>\n",
       "    <tr style=\"text-align: right;\">\n",
       "      <th></th>\n",
       "      <th>gender</th>\n",
       "      <th>Partner</th>\n",
       "      <th>Dependents</th>\n",
       "      <th>PhoneService</th>\n",
       "      <th>MultipleLines</th>\n",
       "      <th>InternetService</th>\n",
       "      <th>OnlineSecurity</th>\n",
       "      <th>OnlineBackup</th>\n",
       "      <th>DeviceProtection</th>\n",
       "      <th>TechSupport</th>\n",
       "      <th>StreamingTV</th>\n",
       "      <th>StreamingMovies</th>\n",
       "      <th>Contract</th>\n",
       "      <th>PaperlessBilling</th>\n",
       "      <th>PaymentMethod</th>\n",
       "      <th>Churn</th>\n",
       "    </tr>\n",
       "  </thead>\n",
       "  <tbody>\n",
       "    <tr>\n",
       "      <th>0</th>\n",
       "      <td>Female</td>\n",
       "      <td>Yes</td>\n",
       "      <td>No</td>\n",
       "      <td>No</td>\n",
       "      <td>No phone service</td>\n",
       "      <td>DSL</td>\n",
       "      <td>No</td>\n",
       "      <td>Yes</td>\n",
       "      <td>No</td>\n",
       "      <td>No</td>\n",
       "      <td>No</td>\n",
       "      <td>No</td>\n",
       "      <td>Month-to-month</td>\n",
       "      <td>Yes</td>\n",
       "      <td>Electronic check</td>\n",
       "      <td>No</td>\n",
       "    </tr>\n",
       "    <tr>\n",
       "      <th>1</th>\n",
       "      <td>Male</td>\n",
       "      <td>No</td>\n",
       "      <td>No</td>\n",
       "      <td>Yes</td>\n",
       "      <td>No</td>\n",
       "      <td>DSL</td>\n",
       "      <td>Yes</td>\n",
       "      <td>No</td>\n",
       "      <td>Yes</td>\n",
       "      <td>No</td>\n",
       "      <td>No</td>\n",
       "      <td>No</td>\n",
       "      <td>One year</td>\n",
       "      <td>No</td>\n",
       "      <td>Mailed check</td>\n",
       "      <td>No</td>\n",
       "    </tr>\n",
       "    <tr>\n",
       "      <th>2</th>\n",
       "      <td>Male</td>\n",
       "      <td>No</td>\n",
       "      <td>No</td>\n",
       "      <td>Yes</td>\n",
       "      <td>No</td>\n",
       "      <td>DSL</td>\n",
       "      <td>Yes</td>\n",
       "      <td>Yes</td>\n",
       "      <td>No</td>\n",
       "      <td>No</td>\n",
       "      <td>No</td>\n",
       "      <td>No</td>\n",
       "      <td>Month-to-month</td>\n",
       "      <td>Yes</td>\n",
       "      <td>Mailed check</td>\n",
       "      <td>Yes</td>\n",
       "    </tr>\n",
       "    <tr>\n",
       "      <th>3</th>\n",
       "      <td>Male</td>\n",
       "      <td>No</td>\n",
       "      <td>No</td>\n",
       "      <td>No</td>\n",
       "      <td>No phone service</td>\n",
       "      <td>DSL</td>\n",
       "      <td>Yes</td>\n",
       "      <td>No</td>\n",
       "      <td>Yes</td>\n",
       "      <td>Yes</td>\n",
       "      <td>No</td>\n",
       "      <td>No</td>\n",
       "      <td>One year</td>\n",
       "      <td>No</td>\n",
       "      <td>Bank transfer (automatic)</td>\n",
       "      <td>No</td>\n",
       "    </tr>\n",
       "    <tr>\n",
       "      <th>4</th>\n",
       "      <td>Female</td>\n",
       "      <td>No</td>\n",
       "      <td>No</td>\n",
       "      <td>Yes</td>\n",
       "      <td>No</td>\n",
       "      <td>Fiber optic</td>\n",
       "      <td>No</td>\n",
       "      <td>No</td>\n",
       "      <td>No</td>\n",
       "      <td>No</td>\n",
       "      <td>No</td>\n",
       "      <td>No</td>\n",
       "      <td>Month-to-month</td>\n",
       "      <td>Yes</td>\n",
       "      <td>Electronic check</td>\n",
       "      <td>Yes</td>\n",
       "    </tr>\n",
       "  </tbody>\n",
       "</table>\n",
       "</div>"
      ],
      "text/plain": [
       "   gender Partner Dependents PhoneService     MultipleLines InternetService  \\\n",
       "0  Female     Yes         No           No  No phone service             DSL   \n",
       "1    Male      No         No          Yes                No             DSL   \n",
       "2    Male      No         No          Yes                No             DSL   \n",
       "3    Male      No         No           No  No phone service             DSL   \n",
       "4  Female      No         No          Yes                No     Fiber optic   \n",
       "\n",
       "  OnlineSecurity OnlineBackup DeviceProtection TechSupport StreamingTV  \\\n",
       "0             No          Yes               No          No          No   \n",
       "1            Yes           No              Yes          No          No   \n",
       "2            Yes          Yes               No          No          No   \n",
       "3            Yes           No              Yes         Yes          No   \n",
       "4             No           No               No          No          No   \n",
       "\n",
       "  StreamingMovies        Contract PaperlessBilling              PaymentMethod  \\\n",
       "0              No  Month-to-month              Yes           Electronic check   \n",
       "1              No        One year               No               Mailed check   \n",
       "2              No  Month-to-month              Yes               Mailed check   \n",
       "3              No        One year               No  Bank transfer (automatic)   \n",
       "4              No  Month-to-month              Yes           Electronic check   \n",
       "\n",
       "  Churn  \n",
       "0    No  \n",
       "1    No  \n",
       "2   Yes  \n",
       "3    No  \n",
       "4   Yes  "
      ]
     },
     "execution_count": 143,
     "metadata": {},
     "output_type": "execute_result"
    }
   ],
   "source": [
    "d_cats = df[cats].copy()\n",
    "d_cats.head()"
   ]
  },
  {
   "cell_type": "code",
   "execution_count": 144,
   "id": "447152bb",
   "metadata": {},
   "outputs": [
    {
     "name": "stdout",
     "output_type": "stream",
     "text": [
      "gender : ['Female' 'Male']\n",
      "Partner : ['Yes' 'No']\n",
      "Dependents : ['No' 'Yes']\n",
      "PhoneService : ['No' 'Yes']\n",
      "MultipleLines : ['No phone service' 'No' 'Yes']\n",
      "InternetService : ['DSL' 'Fiber optic' 'No']\n",
      "OnlineSecurity : ['No' 'Yes' 'No internet service']\n",
      "OnlineBackup : ['Yes' 'No' 'No internet service']\n",
      "DeviceProtection : ['No' 'Yes' 'No internet service']\n",
      "TechSupport : ['No' 'Yes' 'No internet service']\n",
      "StreamingTV : ['No' 'Yes' 'No internet service']\n",
      "StreamingMovies : ['No' 'Yes' 'No internet service']\n",
      "Contract : ['Month-to-month' 'One year' 'Two year']\n",
      "PaperlessBilling : ['Yes' 'No']\n",
      "PaymentMethod : ['Electronic check' 'Mailed check' 'Bank transfer (automatic)'\n",
      " 'Credit card (automatic)']\n",
      "Churn : ['No' 'Yes']\n"
     ]
    }
   ],
   "source": [
    "def feature_cat(dataframe):\n",
    "    for col in dataframe:\n",
    "        print('{} : {}'.format(col, dataframe[col].unique()))\n",
    "feature_cat(d_cats)"
   ]
  },
  {
   "cell_type": "markdown",
   "id": "b518ae45",
   "metadata": {},
   "source": [
    "Some columns contain values with the <b>same meaning but are not grouped</b> :\n",
    "\n",
    "MultipleLines : 'No phone service' means simply 'No' and should be replace by 'No'\n",
    "OnlineSecurity : 'No internet service' should be 'No'\n",
    "OnlineBackup : 'No internet service' should be 'No'\n",
    "DeviceProtection : 'No internet service' should be 'No'\n",
    "TechSupport :'No internet service' should be 'No'\n",
    "StreamingTV : 'No internet service' should be 'No'\n",
    "StreamingMovies :'No internet service' should be 'No'\n",
    "\n",
    "We need to correct the categories or values for these columns by simply <b> replacing all 'No internet service' and 'No phone service'</b> by <b>'No'</b>"
   ]
  },
  {
   "cell_type": "code",
   "execution_count": 145,
   "id": "8be486b2",
   "metadata": {},
   "outputs": [],
   "source": [
    "d_cats = d_cats.replace('No internet service', 'No') \n",
    "d_cats = d_cats.replace('No phone service','No')"
   ]
  },
  {
   "cell_type": "markdown",
   "id": "a9918f48",
   "metadata": {},
   "source": [
    "Sanity check :"
   ]
  },
  {
   "cell_type": "code",
   "execution_count": 146,
   "id": "30f3fabe",
   "metadata": {},
   "outputs": [
    {
     "name": "stdout",
     "output_type": "stream",
     "text": [
      "gender : ['Female' 'Male']\n",
      "Partner : ['Yes' 'No']\n",
      "Dependents : ['No' 'Yes']\n",
      "PhoneService : ['No' 'Yes']\n",
      "MultipleLines : ['No' 'Yes']\n",
      "InternetService : ['DSL' 'Fiber optic' 'No']\n",
      "OnlineSecurity : ['No' 'Yes']\n",
      "OnlineBackup : ['Yes' 'No']\n",
      "DeviceProtection : ['No' 'Yes']\n",
      "TechSupport : ['No' 'Yes']\n",
      "StreamingTV : ['No' 'Yes']\n",
      "StreamingMovies : ['No' 'Yes']\n",
      "Contract : ['Month-to-month' 'One year' 'Two year']\n",
      "PaperlessBilling : ['Yes' 'No']\n",
      "PaymentMethod : ['Electronic check' 'Mailed check' 'Bank transfer (automatic)'\n",
      " 'Credit card (automatic)']\n",
      "Churn : ['No' 'Yes']\n"
     ]
    }
   ],
   "source": [
    "feature_cat(d_cats)"
   ]
  },
  {
   "cell_type": "markdown",
   "id": "4ab9742c",
   "metadata": {},
   "source": [
    "<h3> Data Visualization & exploring the correlations </h3>"
   ]
  },
  {
   "cell_type": "markdown",
   "id": "7a255ef6",
   "metadata": {},
   "source": [
    "<h4><li> For the categorical Variables </li></h4>\n",
    "To compare categorical variables, we will use bar charts to visualize the relationship between them (or not)"
   ]
  },
  {
   "cell_type": "code",
   "execution_count": 147,
   "id": "81010ce0",
   "metadata": {},
   "outputs": [
    {
     "data": {
      "image/png": "[encoded data removed]",
      "text/plain": [
       "<Figure size 432x288 with 1 Axes>"
      ]
     },
     "metadata": {
      "needs_background": "light"
     },
     "output_type": "display_data"
    },
    {
     "data": {
      "image/png": "[encoded data removed]",
      "text/plain": [
       "<Figure size 432x288 with 1 Axes>"
      ]
     },
     "metadata": {
      "needs_background": "light"
     },
     "output_type": "display_data"
    },
    {
     "data": {
      "image/png": "[encoded data removed]",
      "text/plain": [
       "<Figure size 432x288 with 1 Axes>"
      ]
     },
     "metadata": {
      "needs_background": "light"
     },
     "output_type": "display_data"
    },
    {
     "data": {
      "image/png": "[encoded data removed]",
      "text/plain": [
       "<Figure size 432x288 with 1 Axes>"
      ]
     },
     "metadata": {
      "needs_background": "light"
     },
     "output_type": "display_data"
    },
    {
     "data": {
      "image/png": "[encoded data removed]",
      "text/plain": [
       "<Figure size 432x288 with 1 Axes>"
      ]
     },
     "metadata": {
      "needs_background": "light"
     },
     "output_type": "display_data"
    },
    {
     "data": {
      "image/png": "[encoded data removed]",
      "text/plain": [
       "<Figure size 432x288 with 1 Axes>"
      ]
     },
     "metadata": {
      "needs_background": "light"
     },
     "output_type": "display_data"
    },
    {
     "data": {
      "image/png": "[encoded data removed]",
      "text/plain": [
       "<Figure size 432x288 with 1 Axes>"
      ]
     },
     "metadata": {
      "needs_background": "light"
     },
     "output_type": "display_data"
    },
    {
     "data": {
      "image/png": "[encoded data removed]",
      "text/plain": [
       "<Figure size 432x288 with 1 Axes>"
      ]
     },
     "metadata": {
      "needs_background": "light"
     },
     "output_type": "display_data"
    },
    {
     "data": {
      "image/png": "[encoded data removed]",
      "text/plain": [
       "<Figure size 432x288 with 1 Axes>"
      ]
     },
     "metadata": {
      "needs_background": "light"
     },
     "output_type": "display_data"
    },
    {
     "data": {
      "image/png": "[encoded data removed]",
      "text/plain": [
       "<Figure size 432x288 with 1 Axes>"
      ]
     },
     "metadata": {
      "needs_background": "light"
     },
     "output_type": "display_data"
    },
    {
     "data": {
      "image/png": "[encoded data removed]",
      "text/plain": [
       "<Figure size 432x288 with 1 Axes>"
      ]
     },
     "metadata": {
      "needs_background": "light"
     },
     "output_type": "display_data"
    },
    {
     "data": {
      "image/png": "[encoded data removed]",
      "text/plain": [
       "<Figure size 432x288 with 1 Axes>"
      ]
     },
     "metadata": {
      "needs_background": "light"
     },
     "output_type": "display_data"
    },
    {
     "data": {
      "image/png": "[encoded data removed]",
      "text/plain": [
       "<Figure size 432x288 with 1 Axes>"
      ]
     },
     "metadata": {
      "needs_background": "light"
     },
     "output_type": "display_data"
    },
    {
     "data": {
      "image/png": "[encoded data removed]",
      "text/plain": [
       "<Figure size 432x288 with 1 Axes>"
      ]
     },
     "metadata": {
      "needs_background": "light"
     },
     "output_type": "display_data"
    },
    {
     "data": {
      "image/png": "[encoded data removed]",
      "text/plain": [
       "<Figure size 432x288 with 1 Axes>"
      ]
     },
     "metadata": {
      "needs_background": "light"
     },
     "output_type": "display_data"
    },
    {
     "data": {
      "image/png": "[encoded data removed]",
      "text/plain": [
       "<Figure size 432x288 with 1 Axes>"
      ]
     },
     "metadata": {
      "needs_background": "light"
     },
     "output_type": "display_data"
    }
   ],
   "source": [
    "import seaborn as sns\n",
    "\n",
    "for var in cats:\n",
    "    sns.countplot(data=d_cats, x = var, hue = churn_label)\n",
    "    plt.title(var)\n",
    "    plt.tight_layout()\n",
    "    plt.show()"
   ]
  },
  {
   "cell_type": "markdown",
   "id": "9304ca66",
   "metadata": {},
   "source": [
    "The comments below are made on visual observations only. They should be taken into the recommendation stage to the company only after building our machine learning model and confirming the features correlations with the churn rates.<br>\n",
    "\n",
    "<b> Below are the features which look enfavoring churn and which would need specific further investigation in a phase 2 and/or by customer service teams:</b>\n",
    "<li><b>MultipleLines</b> : <br>comparing the proportions of the bars, it looks at a first glance that the <b>customers with multiple lines are churning more than those who don't</b>. And probably even more that the average churn rate. The reason behind this would probably need to be investigated</li>\n",
    "<li><b>The Internet service with the optic fiber</b>: <br> It seems to be a factor prone to churn as the customers who churn are barely (a little bit lower) equal to those who don't. This service is <b>above the expected average churn rate</b>. <br><li><b>It is the same with Streaming services and Streaming Movies services</b>, where we can notice that there are more customers using the services who churn than those who don't.</li>\n",
    "<br>We would need to <b>dig a little deeper into the numbers</b> and if confirmed, <b>recommend the customer service responsible for each product (or service) and the marketing teams to make a follow up on the customer journey and put the right tactics in place to adjust their operations according to the customers'expectations and needs.</b></li>\n",
    "<br><br>\n",
    "<b>Some other features characteristics listed below enfavor customer retention :</b>\n",
    "<li><b>Online security, online-backup & Tech support </b>: <br>It seems that the <b>customers with online security, an online back-up and Tech Support are less prone to churn</b> and even below the average churn rate than those who don't. And for Tech Support, it even looks like this is a service that not only decreases churn rate but also when it is not subscribed, it is a service that increases churn.\n",
    "<li>Finally the <b>automatic payment methods seem to be factors that prevent customers from churning</b> : 'Bank transfer (automatic)','Credit card (automatic)'. Regarding mailed check it looks to be also a predictor of loyal customers Vs churning customers. Whereas electronic check seems to be related to Churn. These observations can be further explored in another stage to find some attributes combinations.</li>\n",
    "    \n",
    "<br><b>Nothing specific to declare :</b>\n",
    "<li>For gender, we don't see a distribution difference between males and females. And it looks like the proportions of churn are respected : about 1/3 churn for each group, which is approximately the churn rate we found above (27%)</li>\n",
    "<li>For dependents, it looks like the customers who don't have dependents churn more (50% Vs 25% for those who have dependents.</li>\n",
    "<li>Very few customers don't have phone services. Overall the churn rate seems respected (those who churn represent of those who stayed)</li>\n",
    "<li>Customers with Paperless Billing seem to be more likely to churn that those who don't. The reason behind this is probably behavioral more than linked to the PaperlessBilling. We could ask to investigate it more if a clear correlation is shown through our ML model.</li>"
   ]
  },
  {
   "cell_type": "markdown",
   "id": "b7302ff9",
   "metadata": {},
   "source": [
    "<h4><li> For the numeric Variables </li></h4>"
   ]
  },
  {
   "cell_type": "code",
   "execution_count": 148,
   "id": "04128eeb",
   "metadata": {},
   "outputs": [
    {
     "data": {
      "text/html": [
       "<div>\n",
       "<style scoped>\n",
       "    .dataframe tbody tr th:only-of-type {\n",
       "        vertical-align: middle;\n",
       "    }\n",
       "\n",
       "    .dataframe tbody tr th {\n",
       "        vertical-align: top;\n",
       "    }\n",
       "\n",
       "    .dataframe thead th {\n",
       "        text-align: right;\n",
       "    }\n",
       "</style>\n",
       "<table border=\"1\" class=\"dataframe\">\n",
       "  <thead>\n",
       "    <tr style=\"text-align: right;\">\n",
       "      <th></th>\n",
       "      <th>SeniorCitizen</th>\n",
       "      <th>tenure</th>\n",
       "      <th>MonthlyCharges</th>\n",
       "      <th>TotalCharges</th>\n",
       "    </tr>\n",
       "  </thead>\n",
       "  <tbody>\n",
       "    <tr>\n",
       "      <th>count</th>\n",
       "      <td>7032.000000</td>\n",
       "      <td>7032.000000</td>\n",
       "      <td>7032.000000</td>\n",
       "      <td>7032.000000</td>\n",
       "    </tr>\n",
       "    <tr>\n",
       "      <th>mean</th>\n",
       "      <td>0.162400</td>\n",
       "      <td>32.421786</td>\n",
       "      <td>64.798208</td>\n",
       "      <td>2283.300441</td>\n",
       "    </tr>\n",
       "    <tr>\n",
       "      <th>std</th>\n",
       "      <td>0.368844</td>\n",
       "      <td>24.545260</td>\n",
       "      <td>30.085974</td>\n",
       "      <td>2266.771362</td>\n",
       "    </tr>\n",
       "    <tr>\n",
       "      <th>min</th>\n",
       "      <td>0.000000</td>\n",
       "      <td>1.000000</td>\n",
       "      <td>18.250000</td>\n",
       "      <td>18.800000</td>\n",
       "    </tr>\n",
       "    <tr>\n",
       "      <th>25%</th>\n",
       "      <td>0.000000</td>\n",
       "      <td>9.000000</td>\n",
       "      <td>35.587500</td>\n",
       "      <td>401.450000</td>\n",
       "    </tr>\n",
       "    <tr>\n",
       "      <th>50%</th>\n",
       "      <td>0.000000</td>\n",
       "      <td>29.000000</td>\n",
       "      <td>70.350000</td>\n",
       "      <td>1397.475000</td>\n",
       "    </tr>\n",
       "    <tr>\n",
       "      <th>75%</th>\n",
       "      <td>0.000000</td>\n",
       "      <td>55.000000</td>\n",
       "      <td>89.862500</td>\n",
       "      <td>3794.737500</td>\n",
       "    </tr>\n",
       "    <tr>\n",
       "      <th>max</th>\n",
       "      <td>1.000000</td>\n",
       "      <td>72.000000</td>\n",
       "      <td>118.750000</td>\n",
       "      <td>8684.800000</td>\n",
       "    </tr>\n",
       "  </tbody>\n",
       "</table>\n",
       "</div>"
      ],
      "text/plain": [
       "       SeniorCitizen       tenure  MonthlyCharges  TotalCharges\n",
       "count    7032.000000  7032.000000     7032.000000   7032.000000\n",
       "mean        0.162400    32.421786       64.798208   2283.300441\n",
       "std         0.368844    24.545260       30.085974   2266.771362\n",
       "min         0.000000     1.000000       18.250000     18.800000\n",
       "25%         0.000000     9.000000       35.587500    401.450000\n",
       "50%         0.000000    29.000000       70.350000   1397.475000\n",
       "75%         0.000000    55.000000       89.862500   3794.737500\n",
       "max         1.000000    72.000000      118.750000   8684.800000"
      ]
     },
     "execution_count": 148,
     "metadata": {},
     "output_type": "execute_result"
    }
   ],
   "source": [
    "#defining the numerical features :\n",
    "nums = list(df.select_dtypes('number').columns)\n",
    "\n",
    "#Let's have a look at the summary and the distribution of our numeric data :\n",
    "df[nums].describe()"
   ]
  },
  {
   "cell_type": "markdown",
   "id": "3d98059f",
   "metadata": {},
   "source": [
    "<li><h4> Plotting Histograms for numeric attributes </h4></li>"
   ]
  },
  {
   "cell_type": "code",
   "execution_count": 149,
   "id": "ab88c65d",
   "metadata": {},
   "outputs": [
    {
     "data": {
      "text/html": [
       "<div>\n",
       "<style scoped>\n",
       "    .dataframe tbody tr th:only-of-type {\n",
       "        vertical-align: middle;\n",
       "    }\n",
       "\n",
       "    .dataframe tbody tr th {\n",
       "        vertical-align: top;\n",
       "    }\n",
       "\n",
       "    .dataframe thead th {\n",
       "        text-align: right;\n",
       "    }\n",
       "</style>\n",
       "<table border=\"1\" class=\"dataframe\">\n",
       "  <thead>\n",
       "    <tr style=\"text-align: right;\">\n",
       "      <th></th>\n",
       "      <th>SeniorCitizen</th>\n",
       "      <th>tenure</th>\n",
       "      <th>MonthlyCharges</th>\n",
       "      <th>TotalCharges</th>\n",
       "      <th>Churn</th>\n",
       "    </tr>\n",
       "  </thead>\n",
       "  <tbody>\n",
       "    <tr>\n",
       "      <th>0</th>\n",
       "      <td>0</td>\n",
       "      <td>1</td>\n",
       "      <td>29.85</td>\n",
       "      <td>29.85</td>\n",
       "      <td>0</td>\n",
       "    </tr>\n",
       "    <tr>\n",
       "      <th>1</th>\n",
       "      <td>0</td>\n",
       "      <td>34</td>\n",
       "      <td>56.95</td>\n",
       "      <td>1889.50</td>\n",
       "      <td>0</td>\n",
       "    </tr>\n",
       "    <tr>\n",
       "      <th>2</th>\n",
       "      <td>0</td>\n",
       "      <td>2</td>\n",
       "      <td>53.85</td>\n",
       "      <td>108.15</td>\n",
       "      <td>1</td>\n",
       "    </tr>\n",
       "    <tr>\n",
       "      <th>3</th>\n",
       "      <td>0</td>\n",
       "      <td>45</td>\n",
       "      <td>42.30</td>\n",
       "      <td>1840.75</td>\n",
       "      <td>0</td>\n",
       "    </tr>\n",
       "    <tr>\n",
       "      <th>4</th>\n",
       "      <td>0</td>\n",
       "      <td>2</td>\n",
       "      <td>70.70</td>\n",
       "      <td>151.65</td>\n",
       "      <td>1</td>\n",
       "    </tr>\n",
       "  </tbody>\n",
       "</table>\n",
       "</div>"
      ],
      "text/plain": [
       "   SeniorCitizen  tenure  MonthlyCharges  TotalCharges  Churn\n",
       "0              0       1           29.85         29.85      0\n",
       "1              0      34           56.95       1889.50      0\n",
       "2              0       2           53.85        108.15      1\n",
       "3              0      45           42.30       1840.75      0\n",
       "4              0       2           70.70        151.65      1"
      ]
     },
     "execution_count": 149,
     "metadata": {},
     "output_type": "execute_result"
    }
   ],
   "source": [
    "#transforming churn into a numeric feature:\n",
    "list_churn = df['Churn'].map({'Yes' : 1, 'No': 0})\n",
    "df_churn_num = pd.DataFrame(list_churn)\n",
    "\n",
    "df_nums = pd.merge(df[nums],df_churn_num,left_index = True, right_index =True)\n",
    "\n",
    "df_nums.head()\n",
    "df_nums.head()"
   ]
  },
  {
   "cell_type": "code",
   "execution_count": 150,
   "id": "6e287f8d",
   "metadata": {},
   "outputs": [
    {
     "data": {
      "image/png": "[encoded data removed]",
      "text/plain": [
       "<Figure size 1080x1080 with 6 Axes>"
      ]
     },
     "metadata": {
      "needs_background": "light"
     },
     "output_type": "display_data"
    }
   ],
   "source": [
    "df_nums.hist(figsize =(15,15), bins = 50)\n",
    "plt.show()"
   ]
  },
  {
   "cell_type": "markdown",
   "id": "b624ff53",
   "metadata": {},
   "source": [
    "As we can see, our customers are well distributed across the tenure graph and present two spikes : 25% are under a tenure of 9.0 (acquired customers) and 25% are above 55.0 (loyal customers); the <b>remaining 50%</b> (!) are varying between 9.0 and 55.0, meaning that they are <b>still satisfied by the services provided...until some point in time or a trigerring event.</b> \n",
    "\n",
    "At some point in between, the Telecom company loses 25% of customers who could have stayed some more months and who decided to disrupt the services and quit the company. \n",
    "\n",
    "<b>Our model will consist at determining the features which will help the Telecom company identify these churners and support them in </b>identifying (then investigating on a one-on-one basis potential churn reasons and deploying) the right sales, marketing or customer support strategy to retain these customers.</b>\n",
    "<br>\n",
    "<br>\n",
    "We also notice that we have a shape of a <b>fat tailed distribution</b> and that <b>75% of the customers Total Charges are below 4000</b> in local currency. But 25% of the customers are above, some of them reaching total charges of about 8000 in local currency.\n",
    "\n",
    "This raises an important step in our data preparation to build the machine learning model : <b>some total charges go far beyond 4000 !!</b> \n",
    "This is the reason why, we will handle the category above 4000 as one category in a step below.\n",
    "<br> It is important to have a <b>sufficient number of instances in our dataset for each stratum</b> in order to have a good <b>representation of all our customers'segments</b> or the <b>estimation of the most profitable and newly acquired customers will be biased</b>. \n",
    "This means that we will need to limit the number of Total charges categories. We will divide the total charges attribute by 1.5 (to limit the number of TotalCharges categories), and we will round it up using ceil then merge the categories greater than 3800 into category 3800.\n",
    "    \n",
    "<br> The company will certainly need to <b>dig more into their data and identify these highly profitable 25% of its customers</b>, providing them with different quality of service to retain the most profitable ones. <b>A customer segmentation analysis is recommended</b> to be developed as a <b>second phase analysis</b> (it is not the subject of this research) to <b>fine-tune the customer relationship strategy of the company</b> and adapt the strategy to each customer segment."
   ]
  },
  {
   "cell_type": "markdown",
   "id": "979d1214",
   "metadata": {},
   "source": [
    "<li><h4> Searching for correlation : </h4></li> \n",
    "In order to identify correlation within the data, I will transform the target variable (Churn) into numeric data.\n",
    "Secondly I will draw a <b>heatmap using the kendall method to observe the data correlation</b>. This method enables to measure the ordinal association between the variables :"
   ]
  },
  {
   "cell_type": "code",
   "execution_count": 151,
   "id": "65065494",
   "metadata": {},
   "outputs": [
    {
     "data": {
      "image/png": "[encoded data removed]",
      "text/plain": [
       "<Figure size 432x288 with 2 Axes>"
      ]
     },
     "metadata": {
      "needs_background": "light"
     },
     "output_type": "display_data"
    }
   ],
   "source": [
    "ax = sns.heatmap(df_nums.corr(method='kendall'), annot=True, fmt='.2f',vmin=-1, vmax=1, cmap='coolwarm')\n",
    "plt.tight_layout()\n",
    "plt.show()"
   ]
  },
  {
   "cell_type": "markdown",
   "id": "204edcef",
   "metadata": {},
   "source": [
    "<li><h4> Looking for correlation </h4></li>"
   ]
  },
  {
   "cell_type": "code",
   "execution_count": 152,
   "id": "e6d505fe",
   "metadata": {},
   "outputs": [
    {
     "data": {
      "text/html": [
       "<div>\n",
       "<style scoped>\n",
       "    .dataframe tbody tr th:only-of-type {\n",
       "        vertical-align: middle;\n",
       "    }\n",
       "\n",
       "    .dataframe tbody tr th {\n",
       "        vertical-align: top;\n",
       "    }\n",
       "\n",
       "    .dataframe thead th {\n",
       "        text-align: right;\n",
       "    }\n",
       "</style>\n",
       "<table border=\"1\" class=\"dataframe\">\n",
       "  <thead>\n",
       "    <tr style=\"text-align: right;\">\n",
       "      <th></th>\n",
       "      <th>SeniorCitizen</th>\n",
       "      <th>tenure</th>\n",
       "      <th>MonthlyCharges</th>\n",
       "      <th>TotalCharges</th>\n",
       "      <th>Churn</th>\n",
       "    </tr>\n",
       "  </thead>\n",
       "  <tbody>\n",
       "    <tr>\n",
       "      <th>SeniorCitizen</th>\n",
       "      <td>1.000000</td>\n",
       "      <td>0.015683</td>\n",
       "      <td>0.219874</td>\n",
       "      <td>0.102411</td>\n",
       "      <td>0.150541</td>\n",
       "    </tr>\n",
       "    <tr>\n",
       "      <th>tenure</th>\n",
       "      <td>0.015683</td>\n",
       "      <td>1.000000</td>\n",
       "      <td>0.246862</td>\n",
       "      <td>0.825880</td>\n",
       "      <td>-0.354049</td>\n",
       "    </tr>\n",
       "    <tr>\n",
       "      <th>MonthlyCharges</th>\n",
       "      <td>0.219874</td>\n",
       "      <td>0.246862</td>\n",
       "      <td>1.000000</td>\n",
       "      <td>0.651065</td>\n",
       "      <td>0.192858</td>\n",
       "    </tr>\n",
       "    <tr>\n",
       "      <th>TotalCharges</th>\n",
       "      <td>0.102411</td>\n",
       "      <td>0.825880</td>\n",
       "      <td>0.651065</td>\n",
       "      <td>1.000000</td>\n",
       "      <td>-0.199484</td>\n",
       "    </tr>\n",
       "    <tr>\n",
       "      <th>Churn</th>\n",
       "      <td>0.150541</td>\n",
       "      <td>-0.354049</td>\n",
       "      <td>0.192858</td>\n",
       "      <td>-0.199484</td>\n",
       "      <td>1.000000</td>\n",
       "    </tr>\n",
       "  </tbody>\n",
       "</table>\n",
       "</div>"
      ],
      "text/plain": [
       "                SeniorCitizen    tenure  MonthlyCharges  TotalCharges  \\\n",
       "SeniorCitizen        1.000000  0.015683        0.219874      0.102411   \n",
       "tenure               0.015683  1.000000        0.246862      0.825880   \n",
       "MonthlyCharges       0.219874  0.246862        1.000000      0.651065   \n",
       "TotalCharges         0.102411  0.825880        0.651065      1.000000   \n",
       "Churn                0.150541 -0.354049        0.192858     -0.199484   \n",
       "\n",
       "                   Churn  \n",
       "SeniorCitizen   0.150541  \n",
       "tenure         -0.354049  \n",
       "MonthlyCharges  0.192858  \n",
       "TotalCharges   -0.199484  \n",
       "Churn           1.000000  "
      ]
     },
     "execution_count": 152,
     "metadata": {},
     "output_type": "execute_result"
    }
   ],
   "source": [
    "df_nums.corr()"
   ]
  },
  {
   "cell_type": "markdown",
   "id": "a4e318b0",
   "metadata": {},
   "source": [
    "With no surprise, the total charges and the monthly charges are correlated (0.65) and Total charges are correlated with tenure (0.82). <br><b>The numeric variables correlated with churn are:</b>\n",
    "<li>Tenure : negatively correlated, stronger correlation (-0.35)</li>\n",
    "<li>Total Charges: second stronger correlation, negatively correlated (around -0.2)</li>\n",
    "<li>Monthly charges and Senior citizen are positively correlated.</li>\n",
    "    \n",
    "The relationship between <b>totalcharges and tenure being negatively correlated with churn</b> is interesting, because it reminds us of the customer lifetime value (CLV = frequency * average basket * length of the relationship). \n",
    "<br> We recommend a second phase analysis where we will segment the customers with their CLV in order to enable specific targeting and invest more on retaining customers with a high CLV."
   ]
  },
  {
   "cell_type": "markdown",
   "id": "68199fbb",
   "metadata": {},
   "source": [
    "# 3. Data preparation for ML algorithm :"
   ]
  },
  {
   "cell_type": "markdown",
   "id": "f55202ed",
   "metadata": {},
   "source": [
    "<h1> 3.1 Creating a test set :</h1>"
   ]
  },
  {
   "cell_type": "markdown",
   "id": "8e27e310",
   "metadata": {},
   "source": [
    "<li><h2>Rebuilding our dataset :</li></h2>\n",
    "First, we need to recreate our full dataset with our numeric and categorical features as per our data cleaning and preprocessing steps. "
   ]
  },
  {
   "cell_type": "code",
   "execution_count": 153,
   "id": "ed7a128e",
   "metadata": {},
   "outputs": [
    {
     "data": {
      "text/plain": [
       "True"
      ]
     },
     "execution_count": 153,
     "metadata": {},
     "output_type": "execute_result"
    }
   ],
   "source": [
    "#sanity check to make the merge :\n",
    "len(d_cats) == len(df_nums)"
   ]
  },
  {
   "cell_type": "code",
   "execution_count": 154,
   "id": "efe8fe37",
   "metadata": {},
   "outputs": [
    {
     "data": {
      "text/html": [
       "<div>\n",
       "<style scoped>\n",
       "    .dataframe tbody tr th:only-of-type {\n",
       "        vertical-align: middle;\n",
       "    }\n",
       "\n",
       "    .dataframe tbody tr th {\n",
       "        vertical-align: top;\n",
       "    }\n",
       "\n",
       "    .dataframe thead th {\n",
       "        text-align: right;\n",
       "    }\n",
       "</style>\n",
       "<table border=\"1\" class=\"dataframe\">\n",
       "  <thead>\n",
       "    <tr style=\"text-align: right;\">\n",
       "      <th></th>\n",
       "      <th>gender</th>\n",
       "      <th>Partner</th>\n",
       "      <th>Dependents</th>\n",
       "      <th>PhoneService</th>\n",
       "      <th>MultipleLines</th>\n",
       "      <th>InternetService</th>\n",
       "      <th>OnlineSecurity</th>\n",
       "      <th>OnlineBackup</th>\n",
       "      <th>DeviceProtection</th>\n",
       "      <th>TechSupport</th>\n",
       "      <th>StreamingTV</th>\n",
       "      <th>StreamingMovies</th>\n",
       "      <th>Contract</th>\n",
       "      <th>PaperlessBilling</th>\n",
       "      <th>PaymentMethod</th>\n",
       "      <th>SeniorCitizen</th>\n",
       "      <th>tenure</th>\n",
       "      <th>MonthlyCharges</th>\n",
       "      <th>TotalCharges</th>\n",
       "      <th>Churn</th>\n",
       "    </tr>\n",
       "  </thead>\n",
       "  <tbody>\n",
       "    <tr>\n",
       "      <th>0</th>\n",
       "      <td>Female</td>\n",
       "      <td>Yes</td>\n",
       "      <td>No</td>\n",
       "      <td>No</td>\n",
       "      <td>No</td>\n",
       "      <td>DSL</td>\n",
       "      <td>No</td>\n",
       "      <td>Yes</td>\n",
       "      <td>No</td>\n",
       "      <td>No</td>\n",
       "      <td>No</td>\n",
       "      <td>No</td>\n",
       "      <td>Month-to-month</td>\n",
       "      <td>Yes</td>\n",
       "      <td>Electronic check</td>\n",
       "      <td>0</td>\n",
       "      <td>1</td>\n",
       "      <td>29.85</td>\n",
       "      <td>29.85</td>\n",
       "      <td>0</td>\n",
       "    </tr>\n",
       "    <tr>\n",
       "      <th>1</th>\n",
       "      <td>Male</td>\n",
       "      <td>No</td>\n",
       "      <td>No</td>\n",
       "      <td>Yes</td>\n",
       "      <td>No</td>\n",
       "      <td>DSL</td>\n",
       "      <td>Yes</td>\n",
       "      <td>No</td>\n",
       "      <td>Yes</td>\n",
       "      <td>No</td>\n",
       "      <td>No</td>\n",
       "      <td>No</td>\n",
       "      <td>One year</td>\n",
       "      <td>No</td>\n",
       "      <td>Mailed check</td>\n",
       "      <td>0</td>\n",
       "      <td>34</td>\n",
       "      <td>56.95</td>\n",
       "      <td>1889.50</td>\n",
       "      <td>0</td>\n",
       "    </tr>\n",
       "    <tr>\n",
       "      <th>2</th>\n",
       "      <td>Male</td>\n",
       "      <td>No</td>\n",
       "      <td>No</td>\n",
       "      <td>Yes</td>\n",
       "      <td>No</td>\n",
       "      <td>DSL</td>\n",
       "      <td>Yes</td>\n",
       "      <td>Yes</td>\n",
       "      <td>No</td>\n",
       "      <td>No</td>\n",
       "      <td>No</td>\n",
       "      <td>No</td>\n",
       "      <td>Month-to-month</td>\n",
       "      <td>Yes</td>\n",
       "      <td>Mailed check</td>\n",
       "      <td>0</td>\n",
       "      <td>2</td>\n",
       "      <td>53.85</td>\n",
       "      <td>108.15</td>\n",
       "      <td>1</td>\n",
       "    </tr>\n",
       "    <tr>\n",
       "      <th>3</th>\n",
       "      <td>Male</td>\n",
       "      <td>No</td>\n",
       "      <td>No</td>\n",
       "      <td>No</td>\n",
       "      <td>No</td>\n",
       "      <td>DSL</td>\n",
       "      <td>Yes</td>\n",
       "      <td>No</td>\n",
       "      <td>Yes</td>\n",
       "      <td>Yes</td>\n",
       "      <td>No</td>\n",
       "      <td>No</td>\n",
       "      <td>One year</td>\n",
       "      <td>No</td>\n",
       "      <td>Bank transfer (automatic)</td>\n",
       "      <td>0</td>\n",
       "      <td>45</td>\n",
       "      <td>42.30</td>\n",
       "      <td>1840.75</td>\n",
       "      <td>0</td>\n",
       "    </tr>\n",
       "    <tr>\n",
       "      <th>4</th>\n",
       "      <td>Female</td>\n",
       "      <td>No</td>\n",
       "      <td>No</td>\n",
       "      <td>Yes</td>\n",
       "      <td>No</td>\n",
       "      <td>Fiber optic</td>\n",
       "      <td>No</td>\n",
       "      <td>No</td>\n",
       "      <td>No</td>\n",
       "      <td>No</td>\n",
       "      <td>No</td>\n",
       "      <td>No</td>\n",
       "      <td>Month-to-month</td>\n",
       "      <td>Yes</td>\n",
       "      <td>Electronic check</td>\n",
       "      <td>0</td>\n",
       "      <td>2</td>\n",
       "      <td>70.70</td>\n",
       "      <td>151.65</td>\n",
       "      <td>1</td>\n",
       "    </tr>\n",
       "  </tbody>\n",
       "</table>\n",
       "</div>"
      ],
      "text/plain": [
       "   gender Partner Dependents PhoneService MultipleLines InternetService  \\\n",
       "0  Female     Yes         No           No            No             DSL   \n",
       "1    Male      No         No          Yes            No             DSL   \n",
       "2    Male      No         No          Yes            No             DSL   \n",
       "3    Male      No         No           No            No             DSL   \n",
       "4  Female      No         No          Yes            No     Fiber optic   \n",
       "\n",
       "  OnlineSecurity OnlineBackup DeviceProtection TechSupport StreamingTV  \\\n",
       "0             No          Yes               No          No          No   \n",
       "1            Yes           No              Yes          No          No   \n",
       "2            Yes          Yes               No          No          No   \n",
       "3            Yes           No              Yes         Yes          No   \n",
       "4             No           No               No          No          No   \n",
       "\n",
       "  StreamingMovies        Contract PaperlessBilling              PaymentMethod  \\\n",
       "0              No  Month-to-month              Yes           Electronic check   \n",
       "1              No        One year               No               Mailed check   \n",
       "2              No  Month-to-month              Yes               Mailed check   \n",
       "3              No        One year               No  Bank transfer (automatic)   \n",
       "4              No  Month-to-month              Yes           Electronic check   \n",
       "\n",
       "   SeniorCitizen  tenure  MonthlyCharges  TotalCharges  Churn  \n",
       "0              0       1           29.85         29.85      0  \n",
       "1              0      34           56.95       1889.50      0  \n",
       "2              0       2           53.85        108.15      1  \n",
       "3              0      45           42.30       1840.75      0  \n",
       "4              0       2           70.70        151.65      1  "
      ]
     },
     "execution_count": 154,
     "metadata": {},
     "output_type": "execute_result"
    }
   ],
   "source": [
    "#let's rebuild the full dataframe with our categorical and numeric features.\n",
    "#The rows correspond to the same customerID so inner join will do the job:\n",
    "\n",
    "df_full = d_cats.merge(df_nums, how = 'inner', right_index=True, left_index=True)\n",
    "\n",
    "#dropping the column \"Churn\" (categorical from d_cats) and renaming Churn_y into Churn\n",
    "df_full = df_full.drop('Churn_x', axis = 1).rename({'Churn_y': 'Churn'}, axis =1)\n",
    "\n",
    "df_full.head()"
   ]
  },
  {
   "cell_type": "markdown",
   "id": "7c5e4652",
   "metadata": {},
   "source": [
    "<li><h2> Using random selection to create a test split </h2></li>"
   ]
  },
  {
   "cell_type": "markdown",
   "id": "c60b75a6",
   "metadata": {},
   "source": [
    "As seen above, the TotalCharges categories need to be limited and ceiled. The value_counts below confirms what we already knew and are considering as following steps :"
   ]
  },
  {
   "cell_type": "code",
   "execution_count": 155,
   "id": "7fbab0cd",
   "metadata": {},
   "outputs": [
    {
     "data": {
      "text/plain": [
       "20.20      11\n",
       "19.75       9\n",
       "20.05       8\n",
       "19.65       8\n",
       "19.90       8\n",
       "           ..\n",
       "6424.70     1\n",
       "1474.35     1\n",
       "6668.35     1\n",
       "6096.90     1\n",
       "5867.00     1\n",
       "Name: TotalCharges, Length: 6530, dtype: int64"
      ]
     },
     "execution_count": 155,
     "metadata": {},
     "output_type": "execute_result"
    }
   ],
   "source": [
    "df_full['TotalCharges'].value_counts()"
   ]
  },
  {
   "cell_type": "markdown",
   "id": "37bf7d94",
   "metadata": {},
   "source": [
    "Customers are too largely distributed...many of them are alone. And indeed, we have a fat tail distribution."
   ]
  },
  {
   "cell_type": "code",
   "execution_count": 156,
   "id": "37ed1f21",
   "metadata": {},
   "outputs": [
    {
     "data": {
      "text/plain": [
       "(array([2709., 1228.,  671.,  508.,  454.,  412.,  395.,  310.,  223.,\n",
       "         122.]),\n",
       " array([  18.8,  885.4, 1752. , 2618.6, 3485.2, 4351.8, 5218.4, 6085. ,\n",
       "        6951.6, 7818.2, 8684.8]),\n",
       " <BarContainer object of 10 artists>)"
      ]
     },
     "execution_count": 156,
     "metadata": {},
     "output_type": "execute_result"
    },
    {
     "data": {
      "image/png": "[encoded data removed]",
      "text/plain": [
       "<Figure size 432x288 with 1 Axes>"
      ]
     },
     "metadata": {
      "needs_background": "light"
     },
     "output_type": "display_data"
    }
   ],
   "source": [
    "plt.hist(df_full['TotalCharges'])"
   ]
  },
  {
   "cell_type": "markdown",
   "id": "e1b7cb63",
   "metadata": {},
   "source": [
    "The Pareto Law looks totally in action here. An interesting finding would be to see how it is applied and to search for our 20% most profitable customers (generating 80% of our revenues), the services they subscribed to and/or characteristics and behaviors..."
   ]
  },
  {
   "cell_type": "code",
   "execution_count": 157,
   "id": "a976d983",
   "metadata": {},
   "outputs": [],
   "source": [
    "# Dividing our data by 2266 (standard deviation) to limit the number of TotalCharges categories \n",
    "#And let us understand the distribution \n",
    "df_full[\"TotalCharges\"] = np.ceil(df_full[\"TotalCharges\"] / 2266)\n",
    "\n",
    "# Label those above 4000 (75% of our data) as 4000\n",
    "df_full[\"TotalCharges\"].where(df_full[\"TotalCharges\"] < 4000, 4000, inplace=True)"
   ]
  },
  {
   "cell_type": "code",
   "execution_count": 158,
   "id": "d49b600e",
   "metadata": {},
   "outputs": [
    {
     "data": {
      "text/plain": [
       "1.0    4373\n",
       "2.0    1282\n",
       "3.0     982\n",
       "4.0     395\n",
       "Name: TotalCharges, dtype: int64"
      ]
     },
     "execution_count": 158,
     "metadata": {},
     "output_type": "execute_result"
    }
   ],
   "source": [
    "df_full[\"TotalCharges\"].value_counts()"
   ]
  },
  {
   "cell_type": "code",
   "execution_count": 159,
   "id": "d99e7be8",
   "metadata": {},
   "outputs": [
    {
     "data": {
      "text/plain": [
       "(array([4373.,    0.,    0., 1282.,    0.,    0.,  982.,    0.,    0.,\n",
       "         395.]),\n",
       " array([1. , 1.3, 1.6, 1.9, 2.2, 2.5, 2.8, 3.1, 3.4, 3.7, 4. ]),\n",
       " <BarContainer object of 10 artists>)"
      ]
     },
     "execution_count": 159,
     "metadata": {},
     "output_type": "execute_result"
    },
    {
     "data": {
      "image/png": "[encoded data removed]",
      "text/plain": [
       "<Figure size 432x288 with 1 Axes>"
      ]
     },
     "metadata": {
      "needs_background": "light"
     },
     "output_type": "display_data"
    }
   ],
   "source": [
    "plt.hist(df_full['TotalCharges'])"
   ]
  },
  {
   "cell_type": "markdown",
   "id": "d50a92af",
   "metadata": {},
   "source": [
    "This looks better categorization to analyze our customers'segments characteristics."
   ]
  },
  {
   "cell_type": "markdown",
   "id": "0d6102ee",
   "metadata": {},
   "source": [
    "<h4><li>Using Stratified selection </li></h4>"
   ]
  },
  {
   "cell_type": "markdown",
   "id": "e53be3ac",
   "metadata": {},
   "source": [
    "We will use Scikit-Learn’s StratifiedShuffleSplit to do a stratified sampling and be able to have a representativity of the different categories within the test and the sample datasets."
   ]
  },
  {
   "cell_type": "code",
   "execution_count": 160,
   "id": "5c9811e0",
   "metadata": {},
   "outputs": [
    {
     "data": {
      "text/html": [
       "<div>\n",
       "<style scoped>\n",
       "    .dataframe tbody tr th:only-of-type {\n",
       "        vertical-align: middle;\n",
       "    }\n",
       "\n",
       "    .dataframe tbody tr th {\n",
       "        vertical-align: top;\n",
       "    }\n",
       "\n",
       "    .dataframe thead th {\n",
       "        text-align: right;\n",
       "    }\n",
       "</style>\n",
       "<table border=\"1\" class=\"dataframe\">\n",
       "  <thead>\n",
       "    <tr style=\"text-align: right;\">\n",
       "      <th></th>\n",
       "      <th>gender</th>\n",
       "      <th>Partner</th>\n",
       "      <th>Dependents</th>\n",
       "      <th>PhoneService</th>\n",
       "      <th>MultipleLines</th>\n",
       "      <th>InternetService</th>\n",
       "      <th>OnlineSecurity</th>\n",
       "      <th>OnlineBackup</th>\n",
       "      <th>DeviceProtection</th>\n",
       "      <th>TechSupport</th>\n",
       "      <th>StreamingTV</th>\n",
       "      <th>StreamingMovies</th>\n",
       "      <th>Contract</th>\n",
       "      <th>PaperlessBilling</th>\n",
       "      <th>PaymentMethod</th>\n",
       "      <th>SeniorCitizen</th>\n",
       "      <th>tenure</th>\n",
       "      <th>MonthlyCharges</th>\n",
       "      <th>TotalCharges</th>\n",
       "      <th>Churn</th>\n",
       "    </tr>\n",
       "  </thead>\n",
       "  <tbody>\n",
       "    <tr>\n",
       "      <th>974</th>\n",
       "      <td>Female</td>\n",
       "      <td>Yes</td>\n",
       "      <td>Yes</td>\n",
       "      <td>Yes</td>\n",
       "      <td>No</td>\n",
       "      <td>DSL</td>\n",
       "      <td>No</td>\n",
       "      <td>Yes</td>\n",
       "      <td>No</td>\n",
       "      <td>Yes</td>\n",
       "      <td>Yes</td>\n",
       "      <td>Yes</td>\n",
       "      <td>Two year</td>\n",
       "      <td>Yes</td>\n",
       "      <td>Credit card (automatic)</td>\n",
       "      <td>0</td>\n",
       "      <td>59</td>\n",
       "      <td>75.95</td>\n",
       "      <td>3.0</td>\n",
       "      <td>0</td>\n",
       "    </tr>\n",
       "    <tr>\n",
       "      <th>619</th>\n",
       "      <td>Female</td>\n",
       "      <td>No</td>\n",
       "      <td>No</td>\n",
       "      <td>Yes</td>\n",
       "      <td>Yes</td>\n",
       "      <td>Fiber optic</td>\n",
       "      <td>No</td>\n",
       "      <td>Yes</td>\n",
       "      <td>No</td>\n",
       "      <td>No</td>\n",
       "      <td>No</td>\n",
       "      <td>No</td>\n",
       "      <td>Month-to-month</td>\n",
       "      <td>Yes</td>\n",
       "      <td>Bank transfer (automatic)</td>\n",
       "      <td>0</td>\n",
       "      <td>7</td>\n",
       "      <td>78.55</td>\n",
       "      <td>1.0</td>\n",
       "      <td>0</td>\n",
       "    </tr>\n",
       "    <tr>\n",
       "      <th>4289</th>\n",
       "      <td>Female</td>\n",
       "      <td>No</td>\n",
       "      <td>No</td>\n",
       "      <td>Yes</td>\n",
       "      <td>No</td>\n",
       "      <td>No</td>\n",
       "      <td>No</td>\n",
       "      <td>No</td>\n",
       "      <td>No</td>\n",
       "      <td>No</td>\n",
       "      <td>No</td>\n",
       "      <td>No</td>\n",
       "      <td>Two year</td>\n",
       "      <td>No</td>\n",
       "      <td>Mailed check</td>\n",
       "      <td>0</td>\n",
       "      <td>54</td>\n",
       "      <td>20.10</td>\n",
       "      <td>1.0</td>\n",
       "      <td>0</td>\n",
       "    </tr>\n",
       "    <tr>\n",
       "      <th>3721</th>\n",
       "      <td>Female</td>\n",
       "      <td>No</td>\n",
       "      <td>No</td>\n",
       "      <td>Yes</td>\n",
       "      <td>No</td>\n",
       "      <td>No</td>\n",
       "      <td>No</td>\n",
       "      <td>No</td>\n",
       "      <td>No</td>\n",
       "      <td>No</td>\n",
       "      <td>No</td>\n",
       "      <td>No</td>\n",
       "      <td>Month-to-month</td>\n",
       "      <td>No</td>\n",
       "      <td>Mailed check</td>\n",
       "      <td>0</td>\n",
       "      <td>2</td>\n",
       "      <td>20.65</td>\n",
       "      <td>1.0</td>\n",
       "      <td>1</td>\n",
       "    </tr>\n",
       "    <tr>\n",
       "      <th>4533</th>\n",
       "      <td>Female</td>\n",
       "      <td>Yes</td>\n",
       "      <td>No</td>\n",
       "      <td>Yes</td>\n",
       "      <td>Yes</td>\n",
       "      <td>Fiber optic</td>\n",
       "      <td>No</td>\n",
       "      <td>Yes</td>\n",
       "      <td>Yes</td>\n",
       "      <td>No</td>\n",
       "      <td>Yes</td>\n",
       "      <td>Yes</td>\n",
       "      <td>Two year</td>\n",
       "      <td>Yes</td>\n",
       "      <td>Bank transfer (automatic)</td>\n",
       "      <td>0</td>\n",
       "      <td>71</td>\n",
       "      <td>105.15</td>\n",
       "      <td>4.0</td>\n",
       "      <td>0</td>\n",
       "    </tr>\n",
       "    <tr>\n",
       "      <th>...</th>\n",
       "      <td>...</td>\n",
       "      <td>...</td>\n",
       "      <td>...</td>\n",
       "      <td>...</td>\n",
       "      <td>...</td>\n",
       "      <td>...</td>\n",
       "      <td>...</td>\n",
       "      <td>...</td>\n",
       "      <td>...</td>\n",
       "      <td>...</td>\n",
       "      <td>...</td>\n",
       "      <td>...</td>\n",
       "      <td>...</td>\n",
       "      <td>...</td>\n",
       "      <td>...</td>\n",
       "      <td>...</td>\n",
       "      <td>...</td>\n",
       "      <td>...</td>\n",
       "      <td>...</td>\n",
       "      <td>...</td>\n",
       "    </tr>\n",
       "    <tr>\n",
       "      <th>4829</th>\n",
       "      <td>Female</td>\n",
       "      <td>No</td>\n",
       "      <td>No</td>\n",
       "      <td>Yes</td>\n",
       "      <td>No</td>\n",
       "      <td>DSL</td>\n",
       "      <td>No</td>\n",
       "      <td>No</td>\n",
       "      <td>No</td>\n",
       "      <td>No</td>\n",
       "      <td>No</td>\n",
       "      <td>No</td>\n",
       "      <td>Month-to-month</td>\n",
       "      <td>Yes</td>\n",
       "      <td>Bank transfer (automatic)</td>\n",
       "      <td>0</td>\n",
       "      <td>12</td>\n",
       "      <td>45.00</td>\n",
       "      <td>1.0</td>\n",
       "      <td>0</td>\n",
       "    </tr>\n",
       "    <tr>\n",
       "      <th>5176</th>\n",
       "      <td>Female</td>\n",
       "      <td>No</td>\n",
       "      <td>Yes</td>\n",
       "      <td>No</td>\n",
       "      <td>No</td>\n",
       "      <td>DSL</td>\n",
       "      <td>Yes</td>\n",
       "      <td>No</td>\n",
       "      <td>No</td>\n",
       "      <td>Yes</td>\n",
       "      <td>No</td>\n",
       "      <td>Yes</td>\n",
       "      <td>Month-to-month</td>\n",
       "      <td>No</td>\n",
       "      <td>Mailed check</td>\n",
       "      <td>0</td>\n",
       "      <td>26</td>\n",
       "      <td>45.80</td>\n",
       "      <td>1.0</td>\n",
       "      <td>0</td>\n",
       "    </tr>\n",
       "    <tr>\n",
       "      <th>2750</th>\n",
       "      <td>Male</td>\n",
       "      <td>No</td>\n",
       "      <td>No</td>\n",
       "      <td>Yes</td>\n",
       "      <td>No</td>\n",
       "      <td>No</td>\n",
       "      <td>No</td>\n",
       "      <td>No</td>\n",
       "      <td>No</td>\n",
       "      <td>No</td>\n",
       "      <td>No</td>\n",
       "      <td>No</td>\n",
       "      <td>One year</td>\n",
       "      <td>Yes</td>\n",
       "      <td>Mailed check</td>\n",
       "      <td>0</td>\n",
       "      <td>3</td>\n",
       "      <td>19.45</td>\n",
       "      <td>1.0</td>\n",
       "      <td>0</td>\n",
       "    </tr>\n",
       "    <tr>\n",
       "      <th>4432</th>\n",
       "      <td>Male</td>\n",
       "      <td>No</td>\n",
       "      <td>No</td>\n",
       "      <td>No</td>\n",
       "      <td>No</td>\n",
       "      <td>DSL</td>\n",
       "      <td>Yes</td>\n",
       "      <td>Yes</td>\n",
       "      <td>No</td>\n",
       "      <td>Yes</td>\n",
       "      <td>No</td>\n",
       "      <td>No</td>\n",
       "      <td>Two year</td>\n",
       "      <td>Yes</td>\n",
       "      <td>Mailed check</td>\n",
       "      <td>0</td>\n",
       "      <td>37</td>\n",
       "      <td>40.55</td>\n",
       "      <td>1.0</td>\n",
       "      <td>0</td>\n",
       "    </tr>\n",
       "    <tr>\n",
       "      <th>2091</th>\n",
       "      <td>Female</td>\n",
       "      <td>No</td>\n",
       "      <td>Yes</td>\n",
       "      <td>Yes</td>\n",
       "      <td>No</td>\n",
       "      <td>No</td>\n",
       "      <td>No</td>\n",
       "      <td>No</td>\n",
       "      <td>No</td>\n",
       "      <td>No</td>\n",
       "      <td>No</td>\n",
       "      <td>No</td>\n",
       "      <td>Two year</td>\n",
       "      <td>No</td>\n",
       "      <td>Credit card (automatic)</td>\n",
       "      <td>0</td>\n",
       "      <td>50</td>\n",
       "      <td>20.15</td>\n",
       "      <td>1.0</td>\n",
       "      <td>0</td>\n",
       "    </tr>\n",
       "  </tbody>\n",
       "</table>\n",
       "<p>1407 rows × 20 columns</p>\n",
       "</div>"
      ],
      "text/plain": [
       "      gender Partner Dependents PhoneService MultipleLines InternetService  \\\n",
       "974   Female     Yes        Yes          Yes            No             DSL   \n",
       "619   Female      No         No          Yes           Yes     Fiber optic   \n",
       "4289  Female      No         No          Yes            No              No   \n",
       "3721  Female      No         No          Yes            No              No   \n",
       "4533  Female     Yes         No          Yes           Yes     Fiber optic   \n",
       "...      ...     ...        ...          ...           ...             ...   \n",
       "4829  Female      No         No          Yes            No             DSL   \n",
       "5176  Female      No        Yes           No            No             DSL   \n",
       "2750    Male      No         No          Yes            No              No   \n",
       "4432    Male      No         No           No            No             DSL   \n",
       "2091  Female      No        Yes          Yes            No              No   \n",
       "\n",
       "     OnlineSecurity OnlineBackup DeviceProtection TechSupport StreamingTV  \\\n",
       "974              No          Yes               No         Yes         Yes   \n",
       "619              No          Yes               No          No          No   \n",
       "4289             No           No               No          No          No   \n",
       "3721             No           No               No          No          No   \n",
       "4533             No          Yes              Yes          No         Yes   \n",
       "...             ...          ...              ...         ...         ...   \n",
       "4829             No           No               No          No          No   \n",
       "5176            Yes           No               No         Yes          No   \n",
       "2750             No           No               No          No          No   \n",
       "4432            Yes          Yes               No         Yes          No   \n",
       "2091             No           No               No          No          No   \n",
       "\n",
       "     StreamingMovies        Contract PaperlessBilling  \\\n",
       "974              Yes        Two year              Yes   \n",
       "619               No  Month-to-month              Yes   \n",
       "4289              No        Two year               No   \n",
       "3721              No  Month-to-month               No   \n",
       "4533             Yes        Two year              Yes   \n",
       "...              ...             ...              ...   \n",
       "4829              No  Month-to-month              Yes   \n",
       "5176             Yes  Month-to-month               No   \n",
       "2750              No        One year              Yes   \n",
       "4432              No        Two year              Yes   \n",
       "2091              No        Two year               No   \n",
       "\n",
       "                  PaymentMethod  SeniorCitizen  tenure  MonthlyCharges  \\\n",
       "974     Credit card (automatic)              0      59           75.95   \n",
       "619   Bank transfer (automatic)              0       7           78.55   \n",
       "4289               Mailed check              0      54           20.10   \n",
       "3721               Mailed check              0       2           20.65   \n",
       "4533  Bank transfer (automatic)              0      71          105.15   \n",
       "...                         ...            ...     ...             ...   \n",
       "4829  Bank transfer (automatic)              0      12           45.00   \n",
       "5176               Mailed check              0      26           45.80   \n",
       "2750               Mailed check              0       3           19.45   \n",
       "4432               Mailed check              0      37           40.55   \n",
       "2091    Credit card (automatic)              0      50           20.15   \n",
       "\n",
       "      TotalCharges  Churn  \n",
       "974            3.0      0  \n",
       "619            1.0      0  \n",
       "4289           1.0      0  \n",
       "3721           1.0      1  \n",
       "4533           4.0      0  \n",
       "...            ...    ...  \n",
       "4829           1.0      0  \n",
       "5176           1.0      0  \n",
       "2750           1.0      0  \n",
       "4432           1.0      0  \n",
       "2091           1.0      0  \n",
       "\n",
       "[1407 rows x 20 columns]"
      ]
     },
     "execution_count": 160,
     "metadata": {},
     "output_type": "execute_result"
    }
   ],
   "source": [
    "from sklearn.model_selection import StratifiedShuffleSplit\n",
    "\n",
    "split = StratifiedShuffleSplit(n_splits=1, test_size=0.2, random_state=42)\n",
    "for train_index, test_index in split.split(df_full, df_full[\"Churn\"]):\n",
    "    strat_train_set = df_full.iloc[train_index]\n",
    "    strat_test_set = df_full.iloc[test_index]\n",
    "strat_test_set"
   ]
  },
  {
   "cell_type": "code",
   "execution_count": 161,
   "id": "95df7e6c",
   "metadata": {},
   "outputs": [],
   "source": [
    "X_train = strat_train_set.copy().drop(labels = ['Churn'],axis = 1)\n",
    "y_train = strat_train_set['Churn'].copy()\n",
    "\n",
    "X_test = strat_test_set.copy().drop(labels = ['Churn'],axis = 1)\n",
    "y_test = strat_test_set['Churn'].copy()"
   ]
  },
  {
   "cell_type": "markdown",
   "id": "72b95bc0",
   "metadata": {},
   "source": [
    "<h4><li>Building a pipeline to preprocess the categorical and numeric input features :</li></h4>"
   ]
  },
  {
   "cell_type": "code",
   "execution_count": 162,
   "id": "4f3e8e80",
   "metadata": {},
   "outputs": [],
   "source": [
    "#defining the list of numeric and categorical attributes for which columns we will apply \n",
    "#the transformations through the pipeline\n",
    "\n",
    "num_attribs = list(X_train.select_dtypes('number').columns)\n",
    "cat_attribs = list(set(X_train.columns) - set(num_attribs))\n",
    "\n",
    "#we need to apply transformations into a single pipeline with standardization of the numeric values\n",
    "#and transformation of the categorical values :\n",
    "\n",
    "from sklearn.compose import ColumnTransformer\n",
    "from sklearn.pipeline import Pipeline\n",
    "from sklearn.impute import SimpleImputer\n",
    "from sklearn.preprocessing import StandardScaler\n",
    "from sklearn.preprocessing import OneHotEncoder"
   ]
  },
  {
   "cell_type": "markdown",
   "id": "e282c7d6",
   "metadata": {},
   "source": [
    "As Machine Learning algorithms don't perform well on numeric features with different scales, we will standardize the numeric features. \n",
    "For this we apply a standardization which will substract the mean value then dividing by the variance resulting in a distribution with unit variance. The numeric values will less be impacted by outliers."
   ]
  },
  {
   "cell_type": "code",
   "execution_count": 163,
   "id": "988c4882",
   "metadata": {},
   "outputs": [],
   "source": [
    "#Building a pipeline for numeric attributes to standardize the values :\n",
    "\n",
    "num_pipeline = Pipeline([\n",
    "        ('imputer', SimpleImputer(strategy=\"median\")),\n",
    "        ('std_scaler', StandardScaler()),\n",
    "    ])\n",
    "\n",
    "#Building the full_pipeline :\n",
    "#For the categorical values transformation,we use directly the embedded OneHotEncoder from Scikit-Learn \n",
    "#OneHotEncoder converts integer categorical values into one-hot vectors (binary).\n",
    "\n",
    "full_pipeline = ColumnTransformer([\n",
    "        (\"num\", num_pipeline, num_attribs),\n",
    "        (\"cat\", OneHotEncoder(), cat_attribs),\n",
    "    ])"
   ]
  },
  {
   "cell_type": "code",
   "execution_count": 164,
   "id": "1dea7462",
   "metadata": {},
   "outputs": [],
   "source": [
    "X_train_prepared = full_pipeline.fit_transform(X_train)"
   ]
  },
  {
   "cell_type": "code",
   "execution_count": 165,
   "id": "fb5699c5",
   "metadata": {},
   "outputs": [
    {
     "data": {
      "text/plain": [
       "array([[-0.43931886,  1.3218163 ,  0.98155578, ...,  0.        ,\n",
       "         1.        ,  0.        ],\n",
       "       [-0.43931886, -0.26741023, -0.97154551, ...,  0.        ,\n",
       "         1.        ,  0.        ],\n",
       "       [-0.43931886,  1.4440645 ,  0.83706615, ...,  0.        ,\n",
       "         1.        ,  0.        ],\n",
       "       ...,\n",
       "       [-0.43931886,  0.14008375,  0.92674937, ...,  0.        ,\n",
       "         0.        ,  1.        ],\n",
       "       [-0.43931886, -0.9194006 ,  0.02991714, ...,  1.        ,\n",
       "         0.        ,  1.        ],\n",
       "       [ 2.27625101, -1.28614519,  0.32221802, ...,  0.        ,\n",
       "         1.        ,  0.        ]])"
      ]
     },
     "execution_count": 165,
     "metadata": {},
     "output_type": "execute_result"
    }
   ],
   "source": [
    "X_train_prepared"
   ]
  },
  {
   "cell_type": "code",
   "execution_count": 166,
   "id": "80150de5",
   "metadata": {},
   "outputs": [
    {
     "data": {
      "text/plain": [
       "(5625, 38)"
      ]
     },
     "execution_count": 166,
     "metadata": {},
     "output_type": "execute_result"
    }
   ],
   "source": [
    "X_train_prepared.shape"
   ]
  },
  {
   "cell_type": "code",
   "execution_count": 167,
   "id": "96ce1de2",
   "metadata": {},
   "outputs": [],
   "source": [
    "X_test_prepared = full_pipeline.fit_transform(X_test)"
   ]
  },
  {
   "cell_type": "markdown",
   "id": "403f749d",
   "metadata": {},
   "source": [
    "We will use a second pipeline both preprocessing the features with columTransformer (full_pipeline mentionned above) and building the models.\n",
    "To <b>ensure future performance of our models and avoid data leakage, the pipeline will be passed at every step of our workflow </b>: from each fold of the cross-validations directly on the training and the test sets (not transformed), GridSearchcv and preprocessing with hyper parameters. "
   ]
  },
  {
   "cell_type": "markdown",
   "id": "1174d418",
   "metadata": {},
   "source": [
    "# 4. Selecting and training a model"
   ]
  },
  {
   "cell_type": "markdown",
   "id": "4cd7be6f",
   "metadata": {},
   "source": [
    "<h2>Training and evaluating on the training set & visualizing the models performance and interpreting the results </h2>"
   ]
  },
  {
   "cell_type": "markdown",
   "id": "7f29d349",
   "metadata": {},
   "source": [
    "<h3>Stratified cross-validation</h3>"
   ]
  },
  {
   "cell_type": "markdown",
   "id": "01210e87",
   "metadata": {},
   "source": [
    "In order not to waste too much data of our dataset and contaminate it, risking to overfit our model. We will use a <b>10-fold cross-validation</b>, trying to find a <b>trade-off between the variance and the bias in our model selection</b>. Thus, we will define the best predictive model for our dataset.\n",
    "<br>\n",
    "We build our model while transforming our Data in order to avoid contaminating it as much as possible."
   ]
  },
  {
   "cell_type": "markdown",
   "id": "68c38e94",
   "metadata": {},
   "source": [
    "<h3><li> Logistic Regression model </h3></li> "
   ]
  },
  {
   "cell_type": "code",
   "execution_count": 168,
   "id": "59ea76fe",
   "metadata": {},
   "outputs": [
    {
     "name": "stdout",
     "output_type": "stream",
     "text": [
      "Scores: [-0.26820604 -0.26287744 -0.20071048 -0.25044405 -0.26465364 -0.23131673\n",
      " -0.25088968 -0.27046263 -0.23309609 -0.23131673]\n",
      "Mean: -0.24639735023988166\n",
      "Standard deviation: 0.02101252819789852\n"
     ]
    }
   ],
   "source": [
    "from sklearn.model_selection import cross_val_score\n",
    "\n",
    "from sklearn.linear_model import LogisticRegression\n",
    "\n",
    "lr_model = Pipeline(steps=[('preprocessor', full_pipeline),\n",
    "                      ('classifier', LogisticRegression(solver=\"lbfgs\", \n",
    "                        max_iter=300, class_weight=\"balanced\"))])\n",
    "\n",
    "scores = cross_val_score(lr_model, X_train, y_train,\n",
    "                         scoring=\"neg_mean_squared_error\", cv=10)\n",
    "\n",
    "def display_scores(scores):\n",
    "    print(\"Scores:\", scores)\n",
    "    print(\"Mean:\", scores.mean())\n",
    "    print(\"Standard deviation:\", scores.std())\n",
    "display_scores(scores )"
   ]
  },
  {
   "cell_type": "code",
   "execution_count": 169,
   "id": "dc9787e5",
   "metadata": {},
   "outputs": [],
   "source": [
    "final_model = lr_model.fit(X_train, y_train)"
   ]
  },
  {
   "cell_type": "code",
   "execution_count": 170,
   "id": "a5574d6f",
   "metadata": {},
   "outputs": [
    {
     "data": {
      "text/plain": [
       "0.76"
      ]
     },
     "execution_count": 170,
     "metadata": {},
     "output_type": "execute_result"
    }
   ],
   "source": [
    "round(lr_model.score(X_train, y_train),2)"
   ]
  },
  {
   "cell_type": "code",
   "execution_count": 171,
   "id": "e5ee56b4",
   "metadata": {},
   "outputs": [
    {
     "data": {
      "text/plain": [
       "0.73"
      ]
     },
     "execution_count": 171,
     "metadata": {},
     "output_type": "execute_result"
    }
   ],
   "source": [
    "round(lr_model.score(X_test, y_test),2)"
   ]
  },
  {
   "cell_type": "code",
   "execution_count": 172,
   "id": "d265879b",
   "metadata": {},
   "outputs": [
    {
     "name": "stdout",
     "output_type": "stream",
     "text": [
      "[0 1 0 ... 0 0 0]\n"
     ]
    }
   ],
   "source": [
    "y_predict_lr = lr_model.predict(X_test)\n",
    "print(y_predict_lr)"
   ]
  },
  {
   "cell_type": "code",
   "execution_count": 173,
   "id": "4d00f722",
   "metadata": {},
   "outputs": [
    {
     "data": {
      "text/plain": [
       "0.5237772168107693"
      ]
     },
     "execution_count": 173,
     "metadata": {},
     "output_type": "execute_result"
    }
   ],
   "source": [
    "from sklearn.metrics import mean_squared_error\n",
    "\n",
    "lin_mse = mean_squared_error(y_test, y_predict_lr)\n",
    "lin_rmse = np.sqrt(lin_mse)\n",
    "lin_rmse"
   ]
  },
  {
   "cell_type": "markdown",
   "id": "6295d33d",
   "metadata": {},
   "source": [
    "<h4>Interpretation of the logistic regression results :<h/4>"
   ]
  },
  {
   "cell_type": "markdown",
   "id": "044ec014",
   "metadata": {},
   "source": [
    "The <b>scores are equivalent between the 10-folds</b> and the <b>mean score is about -0.25 and the RMSE is 0.52 (could be better)</b>.\n",
    "<br>\n",
    "The training score and the testing scores are equivalent, respectively 0.76 and 0.73, which is good."
   ]
  },
  {
   "cell_type": "markdown",
   "id": "44fcc2ec",
   "metadata": {},
   "source": [
    "<h3><li> SVM - Support Vector Machine </h3></li> "
   ]
  },
  {
   "cell_type": "code",
   "execution_count": 174,
   "id": "aa8372a0",
   "metadata": {},
   "outputs": [
    {
     "name": "stdout",
     "output_type": "stream",
     "text": [
      "Scores: [0.45195451 0.45586761 0.41933721 0.42144975 0.44202023 0.43429495\n",
      " 0.46208563 0.46592043 0.44641713 0.44441973]\n",
      "Mean: 0.4443767179345892\n",
      "Standard deviation: 0.014937147981111615\n"
     ]
    }
   ],
   "source": [
    "from sklearn.svm import SVC\n",
    "\n",
    "svc_model = Pipeline(steps=[('preprocessor', full_pipeline), ('classifier', SVC(random_state = 1))])\n",
    "\n",
    "scores = cross_val_score(svc_model, X_train, y_train,\n",
    "                         scoring=\"neg_mean_squared_error\", cv=10)\n",
    "\n",
    "svc_rmse_scores = np.sqrt(-scores)\n",
    "\n",
    "def display_scores(scores):\n",
    "    print(\"Scores:\", scores)\n",
    "    print(\"Mean:\", scores.mean())\n",
    "    print(\"Standard deviation:\", scores.std())\n",
    "display_scores(svc_rmse_scores )"
   ]
  },
  {
   "cell_type": "code",
   "execution_count": 175,
   "id": "931c9489",
   "metadata": {},
   "outputs": [],
   "source": [
    "final_svc_model = svc_model.fit(X_train, y_train)"
   ]
  },
  {
   "cell_type": "code",
   "execution_count": 176,
   "id": "a33efa1b",
   "metadata": {},
   "outputs": [
    {
     "name": "stdout",
     "output_type": "stream",
     "text": [
      "training score is : 0.82\n"
     ]
    }
   ],
   "source": [
    "#training score :\n",
    "print('training score is :', round(svc_model.score(X_train, y_train),2))"
   ]
  },
  {
   "cell_type": "code",
   "execution_count": 177,
   "id": "d92d8742",
   "metadata": {},
   "outputs": [],
   "source": [
    "#Making predictions :\n",
    "y_predict_svc = final_svc_model.predict(X_test)"
   ]
  },
  {
   "cell_type": "code",
   "execution_count": 178,
   "id": "6b9df1fd",
   "metadata": {},
   "outputs": [
    {
     "name": "stdout",
     "output_type": "stream",
     "text": [
      "SVC accuracy: 0.7874911158493249\n"
     ]
    }
   ],
   "source": [
    "#Measuring SVC predictions accuracy :\n",
    "accuracy_svc = final_svc_model.score(X_test,y_test)\n",
    "print(\"SVC accuracy:\",accuracy_svc)"
   ]
  },
  {
   "cell_type": "code",
   "execution_count": 179,
   "id": "ed1d9431",
   "metadata": {},
   "outputs": [
    {
     "name": "stdout",
     "output_type": "stream",
     "text": [
      "              precision    recall  f1-score   support\n",
      "\n",
      "           0       0.83      0.90      0.86      1033\n",
      "           1       0.63      0.48      0.54       374\n",
      "\n",
      "    accuracy                           0.79      1407\n",
      "   macro avg       0.73      0.69      0.70      1407\n",
      "weighted avg       0.77      0.79      0.78      1407\n",
      "\n"
     ]
    }
   ],
   "source": [
    "#Classification report for the SVC model:\n",
    "\n",
    "from sklearn.metrics import classification_report\n",
    "\n",
    "print(classification_report(y_test, y_predict_svc))"
   ]
  },
  {
   "cell_type": "markdown",
   "id": "2b0df7a7",
   "metadata": {},
   "source": [
    "<h4>Interpretation of the SVM model results :<h/4>"
   ]
  },
  {
   "cell_type": "markdown",
   "id": "b465a346",
   "metadata": {},
   "source": [
    "With the SVC model, the standard deviation of 0.013 and the mean RMSE score across cross validations is of 0.44. \n",
    "<br>The training score is 0.82 Vs 0.79 for the testing score. The model <b>generalizes well to new data</b> (test data).\n",
    "<br> The training accuracy is 0.79. <b> So the performance of the SVC is good.</b><br>\n",
    "\n",
    "<b>Classification report analysis :</b>\n",
    "<br>Now, let's have a look at the classification report to check the business application of this model for the telecom company.  <br>\n",
    "The <b>recall is 48%, thus 52% of the churners are not identified.</b> \n",
    "AND the <b>precision is about 63% meaning that if churners are identified, only one third are false positives.</b> It is acceptable from expenses prospective as two third of churners are identified and a strategy can be put in place to retain them.<br>\n",
    "In other words, the company can use this model to predict churn and recommend to develop retention strategies by the customer/sales or makerting services."
   ]
  },
  {
   "cell_type": "markdown",
   "id": "9bbdaa2a",
   "metadata": {},
   "source": [
    "<h3><li> Decision Tree Regressor </h3></li> "
   ]
  },
  {
   "cell_type": "code",
   "execution_count": 180,
   "id": "ab81613e",
   "metadata": {},
   "outputs": [
    {
     "name": "stdout",
     "output_type": "stream",
     "text": [
      "Scores: [0.51978803 0.51788613 0.49911111 0.5319499  0.47774634 0.5133643\n",
      " 0.49637874 0.55740105 0.54796615 0.52577872]\n",
      "Mean: 0.5187370451845162\n",
      "Standard deviation: 0.02273634655417435\n"
     ]
    }
   ],
   "source": [
    "from sklearn.tree import DecisionTreeRegressor\n",
    "\n",
    "tree_reg_model = Pipeline(steps=[('preprocessor', full_pipeline), ('classifier', DecisionTreeRegressor())])\n",
    "\n",
    "scores = cross_val_score(tree_reg_model, X_train, y_train,\n",
    "                         scoring=\"neg_mean_squared_error\", cv=10)\n",
    "\n",
    "tree_reg_rmse_scores = np.sqrt(-scores)\n",
    "\n",
    "def display_scores(scores):\n",
    "    print(\"Scores:\", scores)\n",
    "    print(\"Mean:\", scores.mean())\n",
    "    print(\"Standard deviation:\", scores.std())\n",
    "display_scores(tree_reg_rmse_scores )"
   ]
  },
  {
   "cell_type": "code",
   "execution_count": 181,
   "id": "53594a56",
   "metadata": {},
   "outputs": [],
   "source": [
    "final_tree_reg_model = tree_reg_model.fit(X_train, y_train)"
   ]
  },
  {
   "cell_type": "code",
   "execution_count": 182,
   "id": "92cc6b6d",
   "metadata": {},
   "outputs": [
    {
     "data": {
      "text/plain": [
       "0.99"
      ]
     },
     "execution_count": 182,
     "metadata": {},
     "output_type": "execute_result"
    }
   ],
   "source": [
    "round(tree_reg_model.score(X_train, y_train),2)"
   ]
  },
  {
   "cell_type": "code",
   "execution_count": 183,
   "id": "00e6bc09",
   "metadata": {},
   "outputs": [],
   "source": [
    "#Making predictions :\n",
    "y_predict_tree_reg = tree_reg_model.predict(X_test)"
   ]
  },
  {
   "cell_type": "code",
   "execution_count": 184,
   "id": "5159c1b2",
   "metadata": {},
   "outputs": [
    {
     "data": {
      "text/plain": [
       "-0.41"
      ]
     },
     "execution_count": 184,
     "metadata": {},
     "output_type": "execute_result"
    }
   ],
   "source": [
    "round(tree_reg_model.score(X_test, y_test),2)"
   ]
  },
  {
   "cell_type": "markdown",
   "id": "4d450f25",
   "metadata": {},
   "source": [
    "The training score is 0.99 with an RMSE score across each fold remains constant and is of 0.52 with a standard deviation of 0.024. \n",
    "But the test score is catastrophic with -0.41. The model is clearly <b>overfitting</b> the training data."
   ]
  },
  {
   "cell_type": "markdown",
   "id": "b8879f50",
   "metadata": {},
   "source": [
    "<h4>Interpreation of the decision tree regressor results :<h/4>"
   ]
  },
  {
   "cell_type": "markdown",
   "id": "d62ff451",
   "metadata": {},
   "source": [
    "The model overfits.\n",
    "AND we <b>WILL NOT USE this model to make churn predictions</b> and business recommendations."
   ]
  },
  {
   "cell_type": "markdown",
   "id": "9a15a2ab",
   "metadata": {},
   "source": [
    "<h3><li> Random Forest model </h3></li> "
   ]
  },
  {
   "cell_type": "code",
   "execution_count": 185,
   "id": "aac125f8",
   "metadata": {},
   "outputs": [
    {
     "name": "stdout",
     "output_type": "stream",
     "text": [
      "Scores: [0.4499852  0.44602049 0.41077841 0.41721397 0.44202023 0.44641713\n",
      " 0.456273   0.47349687 0.45431893 0.44840564]\n",
      "Mean: 0.44449298747338106\n",
      "Standard deviation: 0.017363710944537893\n"
     ]
    }
   ],
   "source": [
    "from sklearn.ensemble import RandomForestClassifier\n",
    "from sklearn.datasets import make_classification\n",
    "from sklearn import metrics\n",
    "\n",
    "rf_model = Pipeline(steps=[('preprocessor', full_pipeline), ('classifier', RandomForestClassifier(n_estimators=500 , \n",
    "                                                            oob_score = True, \n",
    "                                                            n_jobs = -1, \n",
    "                                                            random_state =50, \n",
    "                                                            max_features = \"auto\",\n",
    "                                                            max_leaf_nodes = 30))])\n",
    "\n",
    "scores = cross_val_score(rf_model, X_train, y_train,\n",
    "                         scoring=\"neg_mean_squared_error\", cv=10)\n",
    "\n",
    "forest_rmse_scores = np.sqrt(-scores)\n",
    "\n",
    "def display_scores(scores):\n",
    "    print(\"Scores:\", scores)\n",
    "    print(\"Mean:\", scores.mean())\n",
    "    print(\"Standard deviation:\", scores.std())\n",
    "display_scores(forest_rmse_scores )"
   ]
  },
  {
   "cell_type": "code",
   "execution_count": 186,
   "id": "49cebf50",
   "metadata": {},
   "outputs": [],
   "source": [
    "final_model = rf_model.fit(X_train, y_train)"
   ]
  },
  {
   "cell_type": "code",
   "execution_count": 187,
   "id": "8905e7c8",
   "metadata": {},
   "outputs": [
    {
     "name": "stdout",
     "output_type": "stream",
     "text": [
      "The training score of the random forest model is :  0.82\n"
     ]
    }
   ],
   "source": [
    "print('The training score of the random forest model is : ', round(rf_model.score(X_train, y_train),2))"
   ]
  },
  {
   "cell_type": "code",
   "execution_count": 188,
   "id": "44e92cbc",
   "metadata": {},
   "outputs": [
    {
     "name": "stdout",
     "output_type": "stream",
     "text": [
      "The testing score of the random forest model is :  0.79\n"
     ]
    }
   ],
   "source": [
    "print('The testing score of the random forest model is : ', round(rf_model.score(X_test, y_test),2))"
   ]
  },
  {
   "cell_type": "code",
   "execution_count": 189,
   "id": "6d8dd640",
   "metadata": {},
   "outputs": [
    {
     "name": "stdout",
     "output_type": "stream",
     "text": [
      "Accuracy score of the random forest is : 0.792\n"
     ]
    }
   ],
   "source": [
    "# Make predictions\n",
    "from sklearn.datasets import make_classification\n",
    "from sklearn import metrics\n",
    "\n",
    "y_predict_rf = rf_model.predict(X_test)\n",
    "print ('Accuracy score of the random forest is :', round(metrics.accuracy_score(y_test, y_predict_rf),3))"
   ]
  },
  {
   "cell_type": "code",
   "execution_count": 190,
   "id": "d9e47c67",
   "metadata": {},
   "outputs": [
    {
     "name": "stdout",
     "output_type": "stream",
     "text": [
      "              precision    recall  f1-score   support\n",
      "\n",
      "           0       0.82      0.91      0.87      1033\n",
      "           1       0.66      0.45      0.54       374\n",
      "\n",
      "    accuracy                           0.79      1407\n",
      "   macro avg       0.74      0.68      0.70      1407\n",
      "weighted avg       0.78      0.79      0.78      1407\n",
      "\n"
     ]
    }
   ],
   "source": [
    "#evaluating the accuracy\n",
    "print(classification_report(y_test, y_predict_rf))"
   ]
  },
  {
   "cell_type": "code",
   "execution_count": 191,
   "id": "1177e0a8",
   "metadata": {},
   "outputs": [
    {
     "data": {
      "image/png": "[encoded data removed]",
      "text/plain": [
       "<Figure size 288x216 with 2 Axes>"
      ]
     },
     "metadata": {
      "needs_background": "light"
     },
     "output_type": "display_data"
    }
   ],
   "source": [
    "#Confusion matrix with random forest :\n",
    "from sklearn.metrics import confusion_matrix\n",
    "\n",
    "plt.figure(figsize=(4,3))\n",
    "sns.heatmap(confusion_matrix(y_test, y_predict_rf),\n",
    "                annot=True,fmt = \"d\",linecolor=\"k\",linewidths=3)\n",
    "plt.title(\" RANDOM FOREST CONFUSION MATRIX\",fontsize=14)\n",
    "plt.show()"
   ]
  },
  {
   "cell_type": "code",
   "execution_count": 192,
   "id": "f1fd2ccf",
   "metadata": {},
   "outputs": [
    {
     "data": {
      "image/png": "[encoded data removed]",
      "text/plain": [
       "<Figure size 432x288 with 1 Axes>"
      ]
     },
     "metadata": {
      "needs_background": "light"
     },
     "output_type": "display_data"
    }
   ],
   "source": [
    "#plotting the ROC curve for random forest to show the trade-off between sensitivity (true positives) and the specificity (false positives):\n",
    "\n",
    "from sklearn.metrics import roc_curve\n",
    "\n",
    "y_rfpred_prob = rf_model.predict_proba(X_test)[:,1]\n",
    "fpr_rf, tpr_rf, thresholds = roc_curve(y_test, y_rfpred_prob)\n",
    "plt.plot([0, 1], [0, 1], 'k--' )\n",
    "plt.plot(fpr_rf, tpr_rf, label='Random Forest',color = \"r\")\n",
    "plt.xlabel('False Positive Rate')\n",
    "plt.ylabel('True Positive Rate')\n",
    "plt.title('Random Forest ROC Curve',fontsize=16)\n",
    "plt.show();"
   ]
  },
  {
   "cell_type": "markdown",
   "id": "d98ba621",
   "metadata": {},
   "source": [
    "<h4>Interpreation & estimation of the random forest predictions :<h/4>"
   ]
  },
  {
   "cell_type": "markdown",
   "id": "9ba5b9da",
   "metadata": {},
   "source": [
    "With the random forest model, the training socre and the test score are very close and good, respectively 0.82 and 0.79. \n",
    "The<b> accuracy score is of 0.795, almost equal to the one obtained with the SVC (0.79)</b> and <b>it is close to 1, which is a pretty good performance</b>.\n",
    "\n",
    "The RMSE score remains the same between the folds during the cross validation and is equal to the one obtained with the SVC, with a <b>mean score of 0.44 </b> + a standard deviation of 0.018.<br>\n",
    "<br><b>Classification report :</b>\n",
    "<br>\n",
    "Let's analyse the classification report to consider if it can be used for a business application (or not).\n",
    "The SVC was pretty good to predict with a precision of 0.63 and a recall of 0.48.<br>\n",
    "For the random forest, the classification report shows a precision of 0.66 and a recall of 0.45</b> so the model is performing as good as the SVC model for both the precision and the recall with probably a little more false negative but less false positive. \n",
    "<br>We cannot really decide to discreminate between one or the other at this stage, this is the reason why we will be running the <b>GridSearch to fine-tune both models and find the best hyperparameters before comparing their performance and deciding which one is better."
   ]
  },
  {
   "cell_type": "markdown",
   "id": "d6d8dca1",
   "metadata": {},
   "source": [
    "# 5. Fine-tuning the models"
   ]
  },
  {
   "cell_type": "markdown",
   "id": "b0c6d54f",
   "metadata": {},
   "source": [
    "<h3>5.1 GridSearchCV for SVM model</h3>\n",
    "\n",
    "We start with the SVM model and apply the <b>Grid Search cross validation to select the best hyperparameters for the model</b>."
   ]
  },
  {
   "cell_type": "code",
   "execution_count": 210,
   "id": "edd98582",
   "metadata": {},
   "outputs": [
    {
     "name": "stdout",
     "output_type": "stream",
     "text": [
      "Fitting 5 folds for each of 18 candidates, totalling 90 fits\n",
      "[CV] END ........................C=1, gamma=1, kernel=linear; total time=   0.5s\n",
      "[CV] END ........................C=1, gamma=1, kernel=linear; total time=   0.5s\n",
      "[CV] END ........................C=1, gamma=1, kernel=linear; total time=   0.5s\n",
      "[CV] END ........................C=1, gamma=1, kernel=linear; total time=   0.5s\n",
      "[CV] END ........................C=1, gamma=1, kernel=linear; total time=   0.5s\n",
      "[CV] END ...........................C=1, gamma=1, kernel=rbf; total time=   1.9s\n",
      "[CV] END ...........................C=1, gamma=1, kernel=rbf; total time=   1.8s\n",
      "[CV] END ...........................C=1, gamma=1, kernel=rbf; total time=   1.8s\n",
      "[CV] END ...........................C=1, gamma=1, kernel=rbf; total time=   1.8s\n",
      "[CV] END ...........................C=1, gamma=1, kernel=rbf; total time=   1.8s\n",
      "[CV] END ......................C=1, gamma=0.1, kernel=linear; total time=   0.5s\n",
      "[CV] END ......................C=1, gamma=0.1, kernel=linear; total time=   0.5s\n",
      "[CV] END ......................C=1, gamma=0.1, kernel=linear; total time=   0.5s\n",
      "[CV] END ......................C=1, gamma=0.1, kernel=linear; total time=   0.5s\n",
      "[CV] END ......................C=1, gamma=0.1, kernel=linear; total time=   0.5s\n",
      "[CV] END .........................C=1, gamma=0.1, kernel=rbf; total time=   1.0s\n",
      "[CV] END .........................C=1, gamma=0.1, kernel=rbf; total time=   1.1s\n",
      "[CV] END .........................C=1, gamma=0.1, kernel=rbf; total time=   1.0s\n",
      "[CV] END .........................C=1, gamma=0.1, kernel=rbf; total time=   1.0s\n",
      "[CV] END .........................C=1, gamma=0.1, kernel=rbf; total time=   1.0s\n",
      "[CV] END ....................C=1, gamma=0.001, kernel=linear; total time=   0.5s\n",
      "[CV] END ....................C=1, gamma=0.001, kernel=linear; total time=   0.5s\n",
      "[CV] END ....................C=1, gamma=0.001, kernel=linear; total time=   0.5s\n",
      "[CV] END ....................C=1, gamma=0.001, kernel=linear; total time=   0.5s\n",
      "[CV] END ....................C=1, gamma=0.001, kernel=linear; total time=   0.5s\n",
      "[CV] END .......................C=1, gamma=0.001, kernel=rbf; total time=   1.0s\n",
      "[CV] END .......................C=1, gamma=0.001, kernel=rbf; total time=   1.0s\n",
      "[CV] END .......................C=1, gamma=0.001, kernel=rbf; total time=   1.0s\n",
      "[CV] END .......................C=1, gamma=0.001, kernel=rbf; total time=   1.0s\n",
      "[CV] END .......................C=1, gamma=0.001, kernel=rbf; total time=   1.0s\n",
      "[CV] END .......................C=10, gamma=1, kernel=linear; total time=   1.1s\n",
      "[CV] END .......................C=10, gamma=1, kernel=linear; total time=   1.1s\n",
      "[CV] END .......................C=10, gamma=1, kernel=linear; total time=   1.1s\n",
      "[CV] END .......................C=10, gamma=1, kernel=linear; total time=   1.0s\n",
      "[CV] END .......................C=10, gamma=1, kernel=linear; total time=   1.1s\n",
      "[CV] END ..........................C=10, gamma=1, kernel=rbf; total time=   2.1s\n",
      "[CV] END ..........................C=10, gamma=1, kernel=rbf; total time=   2.0s\n",
      "[CV] END ..........................C=10, gamma=1, kernel=rbf; total time=   2.0s\n",
      "[CV] END ..........................C=10, gamma=1, kernel=rbf; total time=   2.0s\n",
      "[CV] END ..........................C=10, gamma=1, kernel=rbf; total time=   2.2s\n",
      "[CV] END .....................C=10, gamma=0.1, kernel=linear; total time=   1.1s\n",
      "[CV] END .....................C=10, gamma=0.1, kernel=linear; total time=   1.1s\n",
      "[CV] END .....................C=10, gamma=0.1, kernel=linear; total time=   1.1s\n",
      "[CV] END .....................C=10, gamma=0.1, kernel=linear; total time=   1.1s\n",
      "[CV] END .....................C=10, gamma=0.1, kernel=linear; total time=   1.1s\n",
      "[CV] END ........................C=10, gamma=0.1, kernel=rbf; total time=   1.1s\n",
      "[CV] END ........................C=10, gamma=0.1, kernel=rbf; total time=   1.2s\n",
      "[CV] END ........................C=10, gamma=0.1, kernel=rbf; total time=   1.1s\n",
      "[CV] END ........................C=10, gamma=0.1, kernel=rbf; total time=   1.1s\n",
      "[CV] END ........................C=10, gamma=0.1, kernel=rbf; total time=   1.1s\n",
      "[CV] END ...................C=10, gamma=0.001, kernel=linear; total time=   1.1s\n",
      "[CV] END ...................C=10, gamma=0.001, kernel=linear; total time=   1.1s\n",
      "[CV] END ...................C=10, gamma=0.001, kernel=linear; total time=   1.1s\n",
      "[CV] END ...................C=10, gamma=0.001, kernel=linear; total time=   1.1s\n",
      "[CV] END ...................C=10, gamma=0.001, kernel=linear; total time=   1.1s\n",
      "[CV] END ......................C=10, gamma=0.001, kernel=rbf; total time=   0.9s\n",
      "[CV] END ......................C=10, gamma=0.001, kernel=rbf; total time=   1.0s\n",
      "[CV] END ......................C=10, gamma=0.001, kernel=rbf; total time=   1.0s\n",
      "[CV] END ......................C=10, gamma=0.001, kernel=rbf; total time=   0.9s\n",
      "[CV] END ......................C=10, gamma=0.001, kernel=rbf; total time=   1.0s\n",
      "[CV] END ......................C=100, gamma=1, kernel=linear; total time=   5.4s\n",
      "[CV] END ......................C=100, gamma=1, kernel=linear; total time=   5.8s\n",
      "[CV] END ......................C=100, gamma=1, kernel=linear; total time=   5.0s\n",
      "[CV] END ......................C=100, gamma=1, kernel=linear; total time=   5.1s\n",
      "[CV] END ......................C=100, gamma=1, kernel=linear; total time=   5.5s\n",
      "[CV] END .........................C=100, gamma=1, kernel=rbf; total time=   2.3s\n",
      "[CV] END .........................C=100, gamma=1, kernel=rbf; total time=   2.1s\n",
      "[CV] END .........................C=100, gamma=1, kernel=rbf; total time=   2.3s\n",
      "[CV] END .........................C=100, gamma=1, kernel=rbf; total time=   2.1s\n",
      "[CV] END .........................C=100, gamma=1, kernel=rbf; total time=   2.3s\n",
      "[CV] END ....................C=100, gamma=0.1, kernel=linear; total time=   5.4s\n",
      "[CV] END ....................C=100, gamma=0.1, kernel=linear; total time=   5.8s\n",
      "[CV] END ....................C=100, gamma=0.1, kernel=linear; total time=   5.0s\n",
      "[CV] END ....................C=100, gamma=0.1, kernel=linear; total time=   5.1s\n",
      "[CV] END ....................C=100, gamma=0.1, kernel=linear; total time=   5.5s\n",
      "[CV] END .......................C=100, gamma=0.1, kernel=rbf; total time=   1.5s\n",
      "[CV] END .......................C=100, gamma=0.1, kernel=rbf; total time=   1.6s\n",
      "[CV] END .......................C=100, gamma=0.1, kernel=rbf; total time=   1.5s\n",
      "[CV] END .......................C=100, gamma=0.1, kernel=rbf; total time=   1.4s\n",
      "[CV] END .......................C=100, gamma=0.1, kernel=rbf; total time=   1.5s\n",
      "[CV] END ..................C=100, gamma=0.001, kernel=linear; total time=   5.4s\n",
      "[CV] END ..................C=100, gamma=0.001, kernel=linear; total time=   5.8s\n",
      "[CV] END ..................C=100, gamma=0.001, kernel=linear; total time=   5.0s\n",
      "[CV] END ..................C=100, gamma=0.001, kernel=linear; total time=   5.1s\n",
      "[CV] END ..................C=100, gamma=0.001, kernel=linear; total time=   5.5s\n",
      "[CV] END .....................C=100, gamma=0.001, kernel=rbf; total time=   0.9s\n",
      "[CV] END .....................C=100, gamma=0.001, kernel=rbf; total time=   1.0s\n",
      "[CV] END .....................C=100, gamma=0.001, kernel=rbf; total time=   0.9s\n",
      "[CV] END .....................C=100, gamma=0.001, kernel=rbf; total time=   0.9s\n",
      "[CV] END .....................C=100, gamma=0.001, kernel=rbf; total time=   1.0s\n"
     ]
    },
    {
     "data": {
      "text/plain": [
       "GridSearchCV(cv=5, estimator=SVC(random_state=1),\n",
       "             param_grid={'C': [1, 10, 100], 'gamma': [1, 0.1, 0.001],\n",
       "                         'kernel': ['linear', 'rbf']},\n",
       "             scoring='neg_mean_squared_error', verbose=2)"
      ]
     },
     "execution_count": 210,
     "metadata": {},
     "output_type": "execute_result"
    }
   ],
   "source": [
    "from sklearn.model_selection import GridSearchCV\n",
    "from sklearn.svm import SVC\n",
    "\n",
    "svc_model = SVC(random_state = 1)\n",
    "\n",
    "parameters = {'C':[1,10,100],'gamma':[1,0.1,0.001], 'kernel':['linear','rbf']}\n",
    "\n",
    "grid_search = GridSearchCV(estimator = svc_model,\n",
    "                           param_grid = parameters,\n",
    "                           scoring = 'neg_mean_squared_error',\n",
    "                           cv = 5, verbose =2)\n",
    "\n",
    "grid_search.fit(X_train_prepared, y_train)"
   ]
  },
  {
   "cell_type": "code",
   "execution_count": 211,
   "id": "6f1c7113",
   "metadata": {},
   "outputs": [
    {
     "name": "stdout",
     "output_type": "stream",
     "text": [
      "\n",
      "The Best Parameters of our Given Model are: {'C': 100, 'gamma': 0.001, 'kernel': 'rbf'}\n"
     ]
    }
   ],
   "source": [
    "#displaying the best hyperparameter combination :\n",
    "print('\\nThe Best Parameters of our Given Model are:', grid_search.best_params_)"
   ]
  },
  {
   "cell_type": "code",
   "execution_count": 212,
   "id": "79fe6259",
   "metadata": {},
   "outputs": [
    {
     "name": "stdout",
     "output_type": "stream",
     "text": [
      "best estimator :  SVC(C=100, gamma=0.001, random_state=1)\n"
     ]
    }
   ],
   "source": [
    "#displaying the best estimator :\n",
    "print('best estimator : ', grid_search.best_estimator_)"
   ]
  },
  {
   "cell_type": "code",
   "execution_count": 213,
   "id": "2afb17f3",
   "metadata": {},
   "outputs": [
    {
     "name": "stdout",
     "output_type": "stream",
     "text": [
      "RMSE score : 0.44741231294833383 for {'C': 1, 'gamma': 1, 'kernel': 'linear'}\n",
      "RMSE score : 0.4860726968948849 for {'C': 1, 'gamma': 1, 'kernel': 'rbf'}\n",
      "RMSE score : 0.44741231294833383 for {'C': 1, 'gamma': 0.1, 'kernel': 'linear'}\n",
      "RMSE score : 0.4480079364376385 for {'C': 1, 'gamma': 0.1, 'kernel': 'rbf'}\n",
      "RMSE score : 0.44741231294833383 for {'C': 1, 'gamma': 0.001, 'kernel': 'linear'}\n",
      "RMSE score : 0.4607240678178932 for {'C': 1, 'gamma': 0.001, 'kernel': 'rbf'}\n",
      "RMSE score : 0.446815895469761 for {'C': 10, 'gamma': 1, 'kernel': 'linear'}\n",
      "RMSE score : 0.49098540372058586 for {'C': 10, 'gamma': 1, 'kernel': 'rbf'}\n",
      "RMSE score : 0.446815895469761 for {'C': 10, 'gamma': 0.1, 'kernel': 'linear'}\n",
      "RMSE score : 0.48110982807116576 for {'C': 10, 'gamma': 0.1, 'kernel': 'rbf'}\n",
      "RMSE score : 0.446815895469761 for {'C': 10, 'gamma': 0.001, 'kernel': 'linear'}\n",
      "RMSE score : 0.446616912651846 for {'C': 10, 'gamma': 0.001, 'kernel': 'rbf'}\n",
      "RMSE score : 0.4464178411408855 for {'C': 100, 'gamma': 1, 'kernel': 'linear'}\n",
      "RMSE score : 0.4906231864793093 for {'C': 100, 'gamma': 1, 'kernel': 'rbf'}\n",
      "RMSE score : 0.4464178411408855 for {'C': 100, 'gamma': 0.1, 'kernel': 'linear'}\n",
      "RMSE score : 0.5057887130237508 for {'C': 100, 'gamma': 0.1, 'kernel': 'rbf'}\n",
      "RMSE score : 0.4464178411408855 for {'C': 100, 'gamma': 0.001, 'kernel': 'linear'}\n",
      "RMSE score : 0.4448220618029941 for {'C': 100, 'gamma': 0.001, 'kernel': 'rbf'}\n"
     ]
    }
   ],
   "source": [
    "#Displaying the score of each hyperparameter combination tested during the grid search:\n",
    "cvres = grid_search.cv_results_\n",
    "for mean_score, params in zip(cvres[\"mean_test_score\"], cvres[\"params\"]):\n",
    "    print('RMSE score : {} for {}'.format(np.sqrt(-mean_score), params))"
   ]
  },
  {
   "cell_type": "code",
   "execution_count": 214,
   "id": "003b8504",
   "metadata": {},
   "outputs": [],
   "source": [
    "#We define below the name of our best model :\n",
    "best_svc_model = Pipeline(steps=[('preprocessor', full_pipeline), ('classifier', grid_search.best_estimator_)])"
   ]
  },
  {
   "cell_type": "markdown",
   "id": "4c6a9858",
   "metadata": {},
   "source": [
    "<h3>5.2 GridSearchCV for Random Forest model</h3>\n",
    "\n",
    "We will now use the Random Forest model and apply the <b>Grid Search cross validation to select the best hyperparameters for the model</b>."
   ]
  },
  {
   "cell_type": "code",
   "execution_count": 220,
   "id": "3e69492e",
   "metadata": {},
   "outputs": [
    {
     "data": {
      "text/plain": [
       "GridSearchCV(cv=5, estimator=RandomForestRegressor(),\n",
       "             param_grid=[{'max_features': [2, 4, 6, 8],\n",
       "                          'n_estimators': [3, 10, 30]},\n",
       "                         {'bootstrap': [False], 'max_features': [2, 3, 4],\n",
       "                          'n_estimators': [3, 10]}],\n",
       "             return_train_score=True, scoring='neg_mean_squared_error')"
      ]
     },
     "execution_count": 220,
     "metadata": {},
     "output_type": "execute_result"
    }
   ],
   "source": [
    "from sklearn.model_selection import GridSearchCV\n",
    "from sklearn.ensemble import RandomForestRegressor\n",
    "\n",
    "param_grid = [\n",
    "    {'n_estimators': [3, 10, 30], 'max_features': [2,4,6,8]},\n",
    "    {'bootstrap': [False], 'n_estimators': [3, 10], 'max_features': [2,3,4]},\n",
    "]\n",
    "\n",
    "forest_reg = RandomForestRegressor()\n",
    "\n",
    "grid_search_rf = GridSearchCV(forest_reg, param_grid, cv =5, \n",
    "                           scoring = 'neg_mean_squared_error',\n",
    "                           return_train_score = True)\n",
    "\n",
    "grid_search_rf.fit(X_train_prepared, y_train)"
   ]
  },
  {
   "cell_type": "code",
   "execution_count": 221,
   "id": "5078ead7",
   "metadata": {},
   "outputs": [
    {
     "data": {
      "text/plain": [
       "{'max_features': 8, 'n_estimators': 30}"
      ]
     },
     "execution_count": 221,
     "metadata": {},
     "output_type": "execute_result"
    }
   ],
   "source": [
    "#displaying the best hyperparameter combination :\n",
    "grid_search_rf.best_params_"
   ]
  },
  {
   "cell_type": "code",
   "execution_count": 222,
   "id": "5bef2db4",
   "metadata": {},
   "outputs": [
    {
     "name": "stdout",
     "output_type": "stream",
     "text": [
      "best estimator :  RandomForestRegressor(max_features=8, n_estimators=30)\n"
     ]
    }
   ],
   "source": [
    "#displaying the best estimator :\n",
    "print('best estimator : ',grid_search_rf.best_estimator_)"
   ]
  },
  {
   "cell_type": "code",
   "execution_count": 223,
   "id": "5163f7f8",
   "metadata": {},
   "outputs": [
    {
     "name": "stdout",
     "output_type": "stream",
     "text": [
      "RMSE score : 0.4364515243329763 for {'max_features': 2, 'n_estimators': 3}\n",
      "RMSE score : 0.4080316650179793 for {'max_features': 2, 'n_estimators': 10}\n",
      "RMSE score : 0.3943738317318213 for {'max_features': 2, 'n_estimators': 30}\n",
      "RMSE score : 0.43212933719010177 for {'max_features': 4, 'n_estimators': 3}\n",
      "RMSE score : 0.4033831188078879 for {'max_features': 4, 'n_estimators': 10}\n",
      "RMSE score : 0.39093292594068596 for {'max_features': 4, 'n_estimators': 30}\n",
      "RMSE score : 0.4348842405503979 for {'max_features': 6, 'n_estimators': 3}\n",
      "RMSE score : 0.3980567876231223 for {'max_features': 6, 'n_estimators': 10}\n",
      "RMSE score : 0.3905969940134132 for {'max_features': 6, 'n_estimators': 30}\n",
      "RMSE score : 0.4386548837023074 for {'max_features': 8, 'n_estimators': 3}\n",
      "RMSE score : 0.4005734162535251 for {'max_features': 8, 'n_estimators': 10}\n",
      "RMSE score : 0.3888695770388026 for {'max_features': 8, 'n_estimators': 30}\n",
      "RMSE score : 0.4494149527170314 for {'bootstrap': False, 'max_features': 2, 'n_estimators': 3}\n",
      "RMSE score : 0.4197551902634277 for {'bootstrap': False, 'max_features': 2, 'n_estimators': 10}\n",
      "RMSE score : 0.44799277992418307 for {'bootstrap': False, 'max_features': 3, 'n_estimators': 3}\n",
      "RMSE score : 0.4167980385489735 for {'bootstrap': False, 'max_features': 3, 'n_estimators': 10}\n",
      "RMSE score : 0.44622682723510393 for {'bootstrap': False, 'max_features': 4, 'n_estimators': 3}\n",
      "RMSE score : 0.41502681751816867 for {'bootstrap': False, 'max_features': 4, 'n_estimators': 10}\n"
     ]
    }
   ],
   "source": [
    "#Displaying the score of each hyperparameter combination tested during the grid search:\n",
    "cvres = grid_search_rf.cv_results_\n",
    "for mean_score, params in zip(cvres[\"mean_test_score\"], cvres[\"params\"]):\n",
    "    print('RMSE score : {} for {}'.format(np.sqrt(-mean_score), params))"
   ]
  },
  {
   "cell_type": "code",
   "execution_count": 198,
   "id": "4802c680",
   "metadata": {},
   "outputs": [],
   "source": [
    "#We define below the name of our best model :\n",
    "best_rf_model = Pipeline(steps=[('preprocessor', full_pipeline), ('classifier', grid_search.best_estimator_)])"
   ]
  },
  {
   "cell_type": "markdown",
   "id": "8989a105",
   "metadata": {},
   "source": [
    "<h3>Analyzing the best models, their errors and selecting the best model: </h3>"
   ]
  },
  {
   "cell_type": "markdown",
   "id": "47686878",
   "metadata": {},
   "source": [
    "For the the Random Forest model, below is the relative importance of each attribute for making accurate predictions :"
   ]
  },
  {
   "cell_type": "code",
   "execution_count": 224,
   "id": "9137d4ec",
   "metadata": {},
   "outputs": [
    {
     "data": {
      "text/plain": [
       "array([0.02232247, 0.18491608, 0.19572285, 0.02097083, 0.00444855,\n",
       "       0.00441698, 0.01622941, 0.01816222, 0.01359877, 0.0129862 ,\n",
       "       0.01219519, 0.01384444, 0.01577062, 0.01281773, 0.00890119,\n",
       "       0.03473719, 0.01236845, 0.0145451 , 0.01475617, 0.01536701,\n",
       "       0.01513412, 0.01303297, 0.01409047, 0.01959048, 0.02060045,\n",
       "       0.00937585, 0.01297077, 0.01445389, 0.01751267, 0.09886722,\n",
       "       0.00999807, 0.01391598, 0.01356412, 0.01314709, 0.02824687,\n",
       "       0.01220241, 0.01203841, 0.01218071])"
      ]
     },
     "execution_count": 224,
     "metadata": {},
     "output_type": "execute_result"
    }
   ],
   "source": [
    "feature_importances = grid_search_rf.best_estimator_.feature_importances_\n",
    "feature_importances"
   ]
  },
  {
   "cell_type": "code",
   "execution_count": 225,
   "id": "74010fcf",
   "metadata": {},
   "outputs": [
    {
     "data": {
      "text/plain": [
       "[(0.195722847629031, 'MonthlyCharges'),\n",
       " (0.18491607720308922, 'tenure'),\n",
       " (0.022322471820597403, 'SeniorCitizen'),\n",
       " (0.02097082776026479, 'TotalCharges'),\n",
       " (0.004448546039409312, 'No'),\n",
       " (0.004416980655719119, 'Yes')]"
      ]
     },
     "execution_count": 225,
     "metadata": {},
     "output_type": "execute_result"
    }
   ],
   "source": [
    "cat_encoder = full_pipeline.named_transformers_[\"cat\"]\n",
    "cat_one_hot_attribs = list(cat_encoder.categories_[0])\n",
    "attributes = num_attribs + cat_one_hot_attribs\n",
    "sorted(zip(feature_importances, attributes), reverse=True)"
   ]
  },
  {
   "cell_type": "markdown",
   "id": "22957a37",
   "metadata": {},
   "source": [
    "The <b>most important attributes for churn prediction confirmed with the random forest final model are tenure and monthly charges</b>."
   ]
  },
  {
   "cell_type": "markdown",
   "id": "7bacd75a",
   "metadata": {},
   "source": [
    "# 6. Evaluating our best estimator on the test Set and conclusion"
   ]
  },
  {
   "cell_type": "markdown",
   "id": "f146a407",
   "metadata": {},
   "source": [
    "<h3>6.1  SVC model</h3>"
   ]
  },
  {
   "cell_type": "code",
   "execution_count": 215,
   "id": "c82bc49e",
   "metadata": {},
   "outputs": [
    {
     "data": {
      "text/plain": [
       "array([0, 1, 0, ..., 0, 0, 0])"
      ]
     },
     "execution_count": 215,
     "metadata": {},
     "output_type": "execute_result"
    }
   ],
   "source": [
    "#predictions using the SVC best model :\n",
    "best_svc_predictions = best_svc_model.predict(X_test)\n",
    "best_svc_predictions"
   ]
  },
  {
   "cell_type": "code",
   "execution_count": 229,
   "id": "1f303556",
   "metadata": {},
   "outputs": [
    {
     "data": {
      "text/plain": [
       "0.7953091684434968"
      ]
     },
     "execution_count": 229,
     "metadata": {},
     "output_type": "execute_result"
    }
   ],
   "source": [
    "#evaluating the SVC best model performance :\n",
    "best_svc_model.score(X_test, y_test)"
   ]
  },
  {
   "cell_type": "code",
   "execution_count": 217,
   "id": "2425f4ed",
   "metadata": {},
   "outputs": [
    {
     "data": {
      "text/plain": [
       "0.4524277086524467"
      ]
     },
     "execution_count": 217,
     "metadata": {},
     "output_type": "execute_result"
    }
   ],
   "source": [
    "RMSE_best_model = mean_squared_error(y_test, best_svc_predictions, squared = False)\n",
    "RMSE_best_model"
   ]
  },
  {
   "cell_type": "code",
   "execution_count": 218,
   "id": "7e781e7d",
   "metadata": {},
   "outputs": [
    {
     "data": {
      "text/plain": [
       "0.7953091684434968"
      ]
     },
     "execution_count": 218,
     "metadata": {},
     "output_type": "execute_result"
    }
   ],
   "source": [
    "from sklearn.metrics import accuracy_score\n",
    "accuracy_score(y_test,best_svc_predictions)"
   ]
  },
  {
   "cell_type": "markdown",
   "id": "2f761330",
   "metadata": {},
   "source": [
    "The score is very good (close to 1) and is "
   ]
  },
  {
   "cell_type": "markdown",
   "id": "3a473366",
   "metadata": {},
   "source": [
    "<h3>Random Forest model</h3>"
   ]
  },
  {
   "cell_type": "code",
   "execution_count": 226,
   "id": "e5f36c4e",
   "metadata": {},
   "outputs": [
    {
     "data": {
      "text/plain": [
       "array([0.        , 0.6       , 0.        , ..., 0.03333333, 0.        ,\n",
       "       0.        ])"
      ]
     },
     "execution_count": 226,
     "metadata": {},
     "output_type": "execute_result"
    }
   ],
   "source": [
    "#predictions using the random forest best model :\n",
    "best_rf_predictions = best_rf_model.predict(X_test)\n",
    "best_rf_predictions"
   ]
  },
  {
   "cell_type": "code",
   "execution_count": 227,
   "id": "adb96301",
   "metadata": {},
   "outputs": [
    {
     "data": {
      "text/plain": [
       "0.22128876510585216"
      ]
     },
     "execution_count": 227,
     "metadata": {},
     "output_type": "execute_result"
    }
   ],
   "source": [
    "#evaluating the random forest best model performance :\n",
    "best_rf_model.score(X_test, y_test)"
   ]
  },
  {
   "cell_type": "code",
   "execution_count": 228,
   "id": "0237d2ed",
   "metadata": {},
   "outputs": [
    {
     "data": {
      "text/plain": [
       "0.38983433263549566"
      ]
     },
     "execution_count": 228,
     "metadata": {},
     "output_type": "execute_result"
    }
   ],
   "source": [
    "RMSE_best_model = mean_squared_error(y_test, best_rf_predictions, squared = False)\n",
    "RMSE_best_model"
   ]
  },
  {
   "cell_type": "markdown",
   "id": "45c319c2",
   "metadata": {},
   "source": [
    "<h2><b>Conclusion :</b></h2>\n",
    "<br>\n",
    "With 0.795 testing accuracy, the <b>SVC model is confirming that is it the best model for the requested business application</b>.\n",
    "Its training accuracy (0.79) and test accuracy are similar (0.795) and show that the <b>model generalizes very well to the test set (new data)</b>.\n",
    "<br> Besides, its classification reports shows benefits providing a trade-off between the <b>precision of the model (0.63%, the recall 0.48 and optimizing the investments Vs other models</b> in order to retain churning customers.\n",
    "<br> The best model fine-tuned for the random forest gave us only a score of 0.22, so it is not retained.\n",
    "\n",
    "But the model has <b>some limitations :</b>\n",
    "<br>\n",
    "<li>The first one is the size of our Dataset, we <b>have only 7032 rows of customer data</b>, which is a small dataset considering the business application of the predictions, particularly when the <b>most profitable customers segment we need to retain is even the smallest (395</b> i.e 5.6% of our Dataset).</li> Besides, we identified <b>two attributes as important in our model predictions : the tenure and monthly charges</b>. And as we mentioned these are linked to the Customer Lifetime Value (CLV). We thus recommend to hold a <b>second study using unsupervised models to clusters customer segments</b> and link the business retention strategy to  the CLV.\n",
    "\n",
    "<br>We can further <b>analyze some attributes combinations or add some features</b> (if we can have more data) to search for a better model performance. </li>\n",
    "\n",
    "<br>From business prospective, we recommend the telecom company to run customer surveys and gather customers'feedbacks on services enfavoring churn or enfavoring customers'retention. \n",
    "<br>\n",
    "<br>\n",
    "Indeed, we have noticed that <b>some services are prone to churn </b>:\n",
    "<li>Muliple line subscriptions</li>\n",
    "<li>The Internet service with optic Fiber subscription</li>\n",
    "<li>Streaming services</li>\n",
    "<li>Streaming Movies services</li>\n",
    "<br>\n",
    "On the contrary, <b>other services, are more enfavoring customer retention or loyalty</b> :\n",
    "<br><li>Customers with online security</li>\n",
    "<li>Online back-up</li>\n",
    "<li>Tech Support. Actually, customers with no Tech Support seems to be enfavoring customer churn.</li>\n",
    "<li>The automatic payment methods seems to be a factor that prevent customers from churning (Bank transfer, Credit card, mailed check Vs electronic check (related to Churn?). \n",
    "\n",
    "<br>We would also like to analyze more the data we have, such as <b>modifying the features attributes</b> considering the following adjustments : \n",
    "<li>Customers with Fiber optic or with Multiple Lines Vs \"no additional services\"\n",
    "<li>Group customers with streaming services and customers with streaming movies as customers with streaming Vs \"no streaming services\".</li>\n",
    "<li>Regroup customers with automatic payments methods Vs \"not automatic\"</li>\n",
    "<li>Group customers with full service support : online security & with online Back-up & Tech support Vs customers with \"no customer support services\".</li>\n",
    "<br>\n",
    "We need to push further this first shot analysis and modify our features by changing some attributes combinations.\n",
    "<br>\n",
    "<br>A direction for <b>even further analysis</b> would be to investigate : \n",
    "<li> Who are your loyal customers ? What are their common patterns (payments, services...etc) ?</li> \n",
    "<li>What are the loyal customers most common subscribed services?</li>\n",
    "<li>How are your most profitable customers behaving and what are their subscribed services ?</li>\n",
    "<li> How to develop a strategy to transform profitable customers into loyal ones ?</li> \n",
    "<li>How can we adjust your services to retain more customers continuously in the customer journey ?</li>"
   ]
  }
 ],
 "metadata": {
  "kernelspec": {
   "display_name": "Python 3",
   "language": "python",
   "name": "python3"
  },
  "language_info": {
   "codemirror_mode": {
    "name": "ipython",
    "version": 3
   },
   "file_extension": ".py",
   "mimetype": "text/x-python",
   "name": "python",
   "nbconvert_exporter": "python",
   "pygments_lexer": "ipython3",
   "version": "3.8.8"
  }
 },
 "nbformat": 4,
 "nbformat_minor": 5
}
